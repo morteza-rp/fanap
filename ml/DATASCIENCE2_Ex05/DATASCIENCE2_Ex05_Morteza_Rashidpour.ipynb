{
 "cells": [
  {
   "cell_type": "code",
   "execution_count": 4,
   "metadata": {},
   "outputs": [],
   "source": [
    "# import necessary libraries\n",
    "import numpy as np\n",
    "import matplotlib.pyplot as plt\n",
    "import seaborn as sns\n",
    "import pandas as pd\n",
    "from scipy import stats\n",
    "import os\n",
    "import sys\n",
    "import random\n",
    "# to remove the limitation on the number of columns that can be displayed\n",
    "pd.set_option('display.max_columns', None)"
   ]
  },
  {
   "cell_type": "markdown",
   "metadata": {},
   "source": [
    "<div dir=\"rtl\">\n",
    "\n",
    "ستون Unnamed: 0 عملا کاربردی ندارد و حذفش میکنیم\n",
    "\n",
    "</div>"
   ]
  },
  {
   "cell_type": "code",
   "execution_count": 5,
   "metadata": {},
   "outputs": [
    {
     "data": {
      "text/html": [
       "<div>\n",
       "<style scoped>\n",
       "    .dataframe tbody tr th:only-of-type {\n",
       "        vertical-align: middle;\n",
       "    }\n",
       "\n",
       "    .dataframe tbody tr th {\n",
       "        vertical-align: top;\n",
       "    }\n",
       "\n",
       "    .dataframe thead th {\n",
       "        text-align: right;\n",
       "    }\n",
       "</style>\n",
       "<table border=\"1\" class=\"dataframe\">\n",
       "  <thead>\n",
       "    <tr style=\"text-align: right;\">\n",
       "      <th></th>\n",
       "      <th>user id</th>\n",
       "      <th>test group</th>\n",
       "      <th>converted</th>\n",
       "      <th>total ads</th>\n",
       "      <th>most ads day</th>\n",
       "      <th>most ads hour</th>\n",
       "    </tr>\n",
       "  </thead>\n",
       "  <tbody>\n",
       "    <tr>\n",
       "      <th>0</th>\n",
       "      <td>1069124</td>\n",
       "      <td>ad</td>\n",
       "      <td>False</td>\n",
       "      <td>130</td>\n",
       "      <td>Monday</td>\n",
       "      <td>20</td>\n",
       "    </tr>\n",
       "    <tr>\n",
       "      <th>1</th>\n",
       "      <td>1119715</td>\n",
       "      <td>ad</td>\n",
       "      <td>False</td>\n",
       "      <td>93</td>\n",
       "      <td>Tuesday</td>\n",
       "      <td>22</td>\n",
       "    </tr>\n",
       "    <tr>\n",
       "      <th>2</th>\n",
       "      <td>1144181</td>\n",
       "      <td>ad</td>\n",
       "      <td>False</td>\n",
       "      <td>21</td>\n",
       "      <td>Tuesday</td>\n",
       "      <td>18</td>\n",
       "    </tr>\n",
       "    <tr>\n",
       "      <th>3</th>\n",
       "      <td>1435133</td>\n",
       "      <td>ad</td>\n",
       "      <td>False</td>\n",
       "      <td>355</td>\n",
       "      <td>Tuesday</td>\n",
       "      <td>10</td>\n",
       "    </tr>\n",
       "    <tr>\n",
       "      <th>4</th>\n",
       "      <td>1015700</td>\n",
       "      <td>ad</td>\n",
       "      <td>False</td>\n",
       "      <td>276</td>\n",
       "      <td>Friday</td>\n",
       "      <td>14</td>\n",
       "    </tr>\n",
       "  </tbody>\n",
       "</table>\n",
       "</div>"
      ],
      "text/plain": [
       "   user id test group  converted  total ads most ads day  most ads hour\n",
       "0  1069124         ad      False        130       Monday             20\n",
       "1  1119715         ad      False         93      Tuesday             22\n",
       "2  1144181         ad      False         21      Tuesday             18\n",
       "3  1435133         ad      False        355      Tuesday             10\n",
       "4  1015700         ad      False        276       Friday             14"
      ]
     },
     "execution_count": 5,
     "metadata": {},
     "output_type": "execute_result"
    }
   ],
   "source": [
    "# read data and drop [Unnamed: 0] column\n",
    "data = pd.read_csv(\"marketing_AB.csv\")\n",
    "data.drop(columns=['Unnamed: 0'], inplace=True)\n",
    "data.head()"
   ]
  },
  {
   "cell_type": "markdown",
   "metadata": {},
   "source": [
    "<div dir=\"rtl\">\n",
    "\n",
    "داده null در data وجود ندارد.\n",
    "\n",
    "داده ما دارای 3 نوع type میباشد: bool, int64, object\n",
    "\n",
    "تعداد 588101  شکرت کننده داریم.\n",
    "</div>"
   ]
  },
  {
   "cell_type": "code",
   "execution_count": 6,
   "metadata": {},
   "outputs": [
    {
     "name": "stdout",
     "output_type": "stream",
     "text": [
      "<class 'pandas.core.frame.DataFrame'>\n",
      "RangeIndex: 588101 entries, 0 to 588100\n",
      "Data columns (total 6 columns):\n",
      " #   Column         Non-Null Count   Dtype \n",
      "---  ------         --------------   ----- \n",
      " 0   user id        588101 non-null  int64 \n",
      " 1   test group     588101 non-null  object\n",
      " 2   converted      588101 non-null  bool  \n",
      " 3   total ads      588101 non-null  int64 \n",
      " 4   most ads day   588101 non-null  object\n",
      " 5   most ads hour  588101 non-null  int64 \n",
      "dtypes: bool(1), int64(3), object(2)\n",
      "memory usage: 23.0+ MB\n"
     ]
    }
   ],
   "source": [
    "data.info()"
   ]
  },
  {
   "cell_type": "code",
   "execution_count": 7,
   "metadata": {},
   "outputs": [
    {
     "data": {
      "text/plain": [
       "user id          False\n",
       "test group       False\n",
       "converted        False\n",
       "total ads        False\n",
       "most ads day     False\n",
       "most ads hour    False\n",
       "dtype: bool"
      ]
     },
     "execution_count": 7,
     "metadata": {},
     "output_type": "execute_result"
    }
   ],
   "source": [
    "data.isnull().any()"
   ]
  },
  {
   "cell_type": "code",
   "execution_count": 8,
   "metadata": {},
   "outputs": [
    {
     "data": {
      "text/html": [
       "<div>\n",
       "<style scoped>\n",
       "    .dataframe tbody tr th:only-of-type {\n",
       "        vertical-align: middle;\n",
       "    }\n",
       "\n",
       "    .dataframe tbody tr th {\n",
       "        vertical-align: top;\n",
       "    }\n",
       "\n",
       "    .dataframe thead th {\n",
       "        text-align: right;\n",
       "    }\n",
       "</style>\n",
       "<table border=\"1\" class=\"dataframe\">\n",
       "  <thead>\n",
       "    <tr style=\"text-align: right;\">\n",
       "      <th></th>\n",
       "      <th>user id</th>\n",
       "      <th>test group</th>\n",
       "      <th>converted</th>\n",
       "      <th>total ads</th>\n",
       "      <th>most ads day</th>\n",
       "      <th>most ads hour</th>\n",
       "    </tr>\n",
       "  </thead>\n",
       "  <tbody>\n",
       "    <tr>\n",
       "      <th>count</th>\n",
       "      <td>5.881010e+05</td>\n",
       "      <td>588101</td>\n",
       "      <td>588101</td>\n",
       "      <td>588101.000000</td>\n",
       "      <td>588101</td>\n",
       "      <td>588101.000000</td>\n",
       "    </tr>\n",
       "    <tr>\n",
       "      <th>unique</th>\n",
       "      <td>NaN</td>\n",
       "      <td>2</td>\n",
       "      <td>2</td>\n",
       "      <td>NaN</td>\n",
       "      <td>7</td>\n",
       "      <td>NaN</td>\n",
       "    </tr>\n",
       "    <tr>\n",
       "      <th>top</th>\n",
       "      <td>NaN</td>\n",
       "      <td>ad</td>\n",
       "      <td>False</td>\n",
       "      <td>NaN</td>\n",
       "      <td>Friday</td>\n",
       "      <td>NaN</td>\n",
       "    </tr>\n",
       "    <tr>\n",
       "      <th>freq</th>\n",
       "      <td>NaN</td>\n",
       "      <td>564577</td>\n",
       "      <td>573258</td>\n",
       "      <td>NaN</td>\n",
       "      <td>92608</td>\n",
       "      <td>NaN</td>\n",
       "    </tr>\n",
       "    <tr>\n",
       "      <th>mean</th>\n",
       "      <td>1.310692e+06</td>\n",
       "      <td>NaN</td>\n",
       "      <td>NaN</td>\n",
       "      <td>24.820876</td>\n",
       "      <td>NaN</td>\n",
       "      <td>14.469061</td>\n",
       "    </tr>\n",
       "    <tr>\n",
       "      <th>std</th>\n",
       "      <td>2.022260e+05</td>\n",
       "      <td>NaN</td>\n",
       "      <td>NaN</td>\n",
       "      <td>43.715181</td>\n",
       "      <td>NaN</td>\n",
       "      <td>4.834634</td>\n",
       "    </tr>\n",
       "    <tr>\n",
       "      <th>min</th>\n",
       "      <td>9.000000e+05</td>\n",
       "      <td>NaN</td>\n",
       "      <td>NaN</td>\n",
       "      <td>1.000000</td>\n",
       "      <td>NaN</td>\n",
       "      <td>0.000000</td>\n",
       "    </tr>\n",
       "    <tr>\n",
       "      <th>25%</th>\n",
       "      <td>1.143190e+06</td>\n",
       "      <td>NaN</td>\n",
       "      <td>NaN</td>\n",
       "      <td>4.000000</td>\n",
       "      <td>NaN</td>\n",
       "      <td>11.000000</td>\n",
       "    </tr>\n",
       "    <tr>\n",
       "      <th>50%</th>\n",
       "      <td>1.313725e+06</td>\n",
       "      <td>NaN</td>\n",
       "      <td>NaN</td>\n",
       "      <td>13.000000</td>\n",
       "      <td>NaN</td>\n",
       "      <td>14.000000</td>\n",
       "    </tr>\n",
       "    <tr>\n",
       "      <th>75%</th>\n",
       "      <td>1.484088e+06</td>\n",
       "      <td>NaN</td>\n",
       "      <td>NaN</td>\n",
       "      <td>27.000000</td>\n",
       "      <td>NaN</td>\n",
       "      <td>18.000000</td>\n",
       "    </tr>\n",
       "    <tr>\n",
       "      <th>max</th>\n",
       "      <td>1.654483e+06</td>\n",
       "      <td>NaN</td>\n",
       "      <td>NaN</td>\n",
       "      <td>2065.000000</td>\n",
       "      <td>NaN</td>\n",
       "      <td>23.000000</td>\n",
       "    </tr>\n",
       "  </tbody>\n",
       "</table>\n",
       "</div>"
      ],
      "text/plain": [
       "             user id test group converted      total ads most ads day   \n",
       "count   5.881010e+05     588101    588101  588101.000000       588101  \\\n",
       "unique           NaN          2         2            NaN            7   \n",
       "top              NaN         ad     False            NaN       Friday   \n",
       "freq             NaN     564577    573258            NaN        92608   \n",
       "mean    1.310692e+06        NaN       NaN      24.820876          NaN   \n",
       "std     2.022260e+05        NaN       NaN      43.715181          NaN   \n",
       "min     9.000000e+05        NaN       NaN       1.000000          NaN   \n",
       "25%     1.143190e+06        NaN       NaN       4.000000          NaN   \n",
       "50%     1.313725e+06        NaN       NaN      13.000000          NaN   \n",
       "75%     1.484088e+06        NaN       NaN      27.000000          NaN   \n",
       "max     1.654483e+06        NaN       NaN    2065.000000          NaN   \n",
       "\n",
       "        most ads hour  \n",
       "count   588101.000000  \n",
       "unique            NaN  \n",
       "top               NaN  \n",
       "freq              NaN  \n",
       "mean        14.469061  \n",
       "std          4.834634  \n",
       "min          0.000000  \n",
       "25%         11.000000  \n",
       "50%         14.000000  \n",
       "75%         18.000000  \n",
       "max         23.000000  "
      ]
     },
     "execution_count": 8,
     "metadata": {},
     "output_type": "execute_result"
    }
   ],
   "source": [
    "data.describe(include=\"all\")"
   ]
  },
  {
   "cell_type": "markdown",
   "metadata": {},
   "source": [
    "<div dir=\"rtl\">\n",
    "\n",
    "2 گروه در ستون test group داریم که 564577 نفر تبلیغات مشاهده کردند(ad) و 23524 نفر تبلیغات مشاهده نکردند(psa)\n",
    "\n",
    "</div>"
   ]
  },
  {
   "cell_type": "code",
   "execution_count": 9,
   "metadata": {},
   "outputs": [
    {
     "data": {
      "text/plain": [
       "test group\n",
       "ad     564577\n",
       "psa     23524\n",
       "Name: count, dtype: int64"
      ]
     },
     "execution_count": 9,
     "metadata": {},
     "output_type": "execute_result"
    }
   ],
   "source": [
    "data[\"test group\"].value_counts()"
   ]
  },
  {
   "cell_type": "code",
   "execution_count": 10,
   "metadata": {},
   "outputs": [
    {
     "data": {
      "image/png": "[encoded data removed]",
      "text/plain": [
       "<Figure size 640x480 with 1 Axes>"
      ]
     },
     "metadata": {},
     "output_type": "display_data"
    }
   ],
   "source": [
    "plt.hist(data['test group'], color='lightgreen')\n",
    "plt.xlabel('Test Group')\n",
    "plt.ylabel('users')\n",
    "plt.show()"
   ]
  },
  {
   "cell_type": "markdown",
   "metadata": {},
   "source": [
    "<div dir=\"rtl\">\n",
    "\n",
    "ستون converted نشان میدهد که 573258 نفر خرید نکردند و 14843 نفر خرید کردند\n",
    "\n",
    "</div>"
   ]
  },
  {
   "cell_type": "code",
   "execution_count": 11,
   "metadata": {},
   "outputs": [
    {
     "data": {
      "text/plain": [
       "converted\n",
       "False    573258\n",
       "True      14843\n",
       "Name: count, dtype: int64"
      ]
     },
     "execution_count": 11,
     "metadata": {},
     "output_type": "execute_result"
    }
   ],
   "source": [
    "data[\"converted\"].value_counts()"
   ]
  },
  {
   "cell_type": "code",
   "execution_count": 12,
   "metadata": {},
   "outputs": [
    {
     "data": {
      "image/png": "[encoded data removed]",
      "text/plain": [
       "<Figure size 640x480 with 1 Axes>"
      ]
     },
     "metadata": {},
     "output_type": "display_data"
    }
   ],
   "source": [
    "plt.hist(data[\"converted\"].astype(\"str\"), color='green')\n",
    "plt.xlabel('converted')\n",
    "plt.ylabel('users')\n",
    "plt.show()"
   ]
  },
  {
   "cell_type": "markdown",
   "metadata": {},
   "source": [
    "<div dir=\"rtl\">\n",
    "\n",
    "بین ساعت های 10 تا 15 بیشترین بازدید تبلیغات را داریم\n",
    "\n",
    "</div>"
   ]
  },
  {
   "cell_type": "code",
   "execution_count": 83,
   "metadata": {},
   "outputs": [
    {
     "data": {
      "image/png": "[encoded data removed]",
      "text/plain": [
       "<Figure size 640x480 with 1 Axes>"
      ]
     },
     "metadata": {},
     "output_type": "display_data"
    }
   ],
   "source": [
    "sns.histplot(data[\"most ads hour\"])\n",
    "plt.show()"
   ]
  },
  {
   "cell_type": "markdown",
   "metadata": {},
   "source": [
    "<div dir=\"rtl\">\n",
    "\n",
    "به دلیل اینکه متغییر converted داده ما دارای 2 حالت true و false میباشد و test group به 2 گروه ad و psa تقسیم شده و متغییر های ما categorical  هستند \n",
    "\n",
    "می توانیم از binomial , chi-square استفاده کنیم.\n",
    "\n",
    "</div>"
   ]
  },
  {
   "cell_type": "code",
   "execution_count": 40,
   "metadata": {},
   "outputs": [
    {
     "name": "stdout",
     "output_type": "stream",
     "text": [
      "p_value: 0.0\n"
     ]
    }
   ],
   "source": [
    "# binomial\n",
    "\n",
    "# ads group and psa group data\n",
    "ads = data[data['test group'] == 'ad']\n",
    "num_ads = len(ads)\n",
    "\n",
    "psa = data[data['test group'] == 'psa']\n",
    "num_psa = len(psa)\n",
    "\n",
    "# number of users who purchases\n",
    "ads_conv = np.sum(ads['converted'])\n",
    "psa_conv = np.sum(psa['converted'])\n",
    "\n",
    "# mean\n",
    "ads_mean = ads.converted.mean() \n",
    "psa_mean = psa.converted.mean() \n",
    "mean_diff = ads_mean-psa_mean\n",
    "\n",
    "# Number of simulations\n",
    "n = 10000\n",
    "\n",
    "# Simulating the number of users who made purchases in each group using the binomial method\n",
    "ads_converted = np.random.binomial(num_ads, data.converted.mean(), n) / num_ads\n",
    "psa_converted = np.random.binomial(num_psa, data.converted.mean(), n) / num_psa\n",
    "\n",
    "p_diffs = ads_converted - psa_converted\n",
    "\n",
    "p_value = (p_diffs> mean_diff).mean()*100\n",
    "print(\"p_value:\", p_value)"
   ]
  },
  {
   "cell_type": "markdown",
   "metadata": {},
   "source": [
    "<div dir=\"rtl\">\n",
    "\n",
    "با توجه به اینکه p_value = 0 از threshold = 0.05 کمتر از شده است میتوانیم نتیجه بگیریم که تبلیغات تاثیر مثبتی در خرید داشته است.\n",
    "\n",
    "</div>"
   ]
  },
  {
   "cell_type": "markdown",
   "metadata": {},
   "source": [
    "<div dir=\"rtl\">\n",
    "\n",
    "تست chi_square:\n",
    "\n",
    "</div>"
   ]
  },
  {
   "cell_type": "code",
   "execution_count": 73,
   "metadata": {},
   "outputs": [
    {
     "data": {
      "text/html": [
       "<div>\n",
       "<style scoped>\n",
       "    .dataframe tbody tr th:only-of-type {\n",
       "        vertical-align: middle;\n",
       "    }\n",
       "\n",
       "    .dataframe tbody tr th {\n",
       "        vertical-align: top;\n",
       "    }\n",
       "\n",
       "    .dataframe thead th {\n",
       "        text-align: right;\n",
       "    }\n",
       "</style>\n",
       "<table border=\"1\" class=\"dataframe\">\n",
       "  <thead>\n",
       "    <tr style=\"text-align: right;\">\n",
       "      <th>converted</th>\n",
       "      <th>False</th>\n",
       "      <th>True</th>\n",
       "      <th>All</th>\n",
       "    </tr>\n",
       "    <tr>\n",
       "      <th>test group</th>\n",
       "      <th></th>\n",
       "      <th></th>\n",
       "      <th></th>\n",
       "    </tr>\n",
       "  </thead>\n",
       "  <tbody>\n",
       "    <tr>\n",
       "      <th>ad</th>\n",
       "      <td>550154</td>\n",
       "      <td>14423</td>\n",
       "      <td>564577</td>\n",
       "    </tr>\n",
       "    <tr>\n",
       "      <th>psa</th>\n",
       "      <td>23104</td>\n",
       "      <td>420</td>\n",
       "      <td>23524</td>\n",
       "    </tr>\n",
       "    <tr>\n",
       "      <th>All</th>\n",
       "      <td>573258</td>\n",
       "      <td>14843</td>\n",
       "      <td>588101</td>\n",
       "    </tr>\n",
       "  </tbody>\n",
       "</table>\n",
       "</div>"
      ],
      "text/plain": [
       "converted    False   True     All\n",
       "test group                       \n",
       "ad          550154  14423  564577\n",
       "psa          23104    420   23524\n",
       "All         573258  14843  588101"
      ]
     },
     "execution_count": 73,
     "metadata": {},
     "output_type": "execute_result"
    }
   ],
   "source": [
    "ct = pd.crosstab(data[\"test group\"], data[\"converted\"], margins=True)\n",
    "ct"
   ]
  },
  {
   "cell_type": "code",
   "execution_count": 74,
   "metadata": {},
   "outputs": [
    {
     "data": {
      "text/plain": [
       "array([[550154,  14423],\n",
       "       [ 23104,    420]], dtype=int64)"
      ]
     },
     "execution_count": 74,
     "metadata": {},
     "output_type": "execute_result"
    }
   ],
   "source": [
    "d = np.array([ct.iloc[0][: -1].values, ct.iloc[1][: -1].values])\n",
    "d"
   ]
  },
  {
   "cell_type": "code",
   "execution_count": 75,
   "metadata": {},
   "outputs": [
    {
     "name": "stdout",
     "output_type": "stream",
     "text": [
      "p_value: 1.9989623063390075e-13\n"
     ]
    }
   ],
   "source": [
    "result = stats.chi2_contingency(d)\n",
    "print(\"p_value:\", result.pvalue)"
   ]
  },
  {
   "cell_type": "markdown",
   "metadata": {},
   "source": [
    "<div dir=\"rtl\">\n",
    "\n",
    "در تست chi_square هم pvalue کمتر از threshold=0.05 شده در نتیجه متغییرهای converted و test group ارتباط معنا داری باهم دارند.\n",
    "\n",
    "</div>"
   ]
  },
  {
   "cell_type": "code",
   "execution_count": 76,
   "metadata": {},
   "outputs": [
    {
     "data": {
      "text/html": [
       "<div>\n",
       "<style scoped>\n",
       "    .dataframe tbody tr th:only-of-type {\n",
       "        vertical-align: middle;\n",
       "    }\n",
       "\n",
       "    .dataframe tbody tr th {\n",
       "        vertical-align: top;\n",
       "    }\n",
       "\n",
       "    .dataframe thead th {\n",
       "        text-align: right;\n",
       "    }\n",
       "</style>\n",
       "<table border=\"1\" class=\"dataframe\">\n",
       "  <thead>\n",
       "    <tr style=\"text-align: right;\">\n",
       "      <th>most ads day</th>\n",
       "      <th>Friday</th>\n",
       "      <th>Monday</th>\n",
       "      <th>Saturday</th>\n",
       "      <th>Sunday</th>\n",
       "      <th>Thursday</th>\n",
       "      <th>Tuesday</th>\n",
       "      <th>Wednesday</th>\n",
       "      <th>All</th>\n",
       "    </tr>\n",
       "    <tr>\n",
       "      <th>converted</th>\n",
       "      <th></th>\n",
       "      <th></th>\n",
       "      <th></th>\n",
       "      <th></th>\n",
       "      <th></th>\n",
       "      <th></th>\n",
       "      <th></th>\n",
       "      <th></th>\n",
       "    </tr>\n",
       "  </thead>\n",
       "  <tbody>\n",
       "    <tr>\n",
       "      <th>False</th>\n",
       "      <td>90551</td>\n",
       "      <td>84216</td>\n",
       "      <td>79941</td>\n",
       "      <td>83301</td>\n",
       "      <td>81192</td>\n",
       "      <td>75167</td>\n",
       "      <td>78890</td>\n",
       "      <td>573258</td>\n",
       "    </tr>\n",
       "    <tr>\n",
       "      <th>True</th>\n",
       "      <td>2057</td>\n",
       "      <td>2857</td>\n",
       "      <td>1719</td>\n",
       "      <td>2090</td>\n",
       "      <td>1790</td>\n",
       "      <td>2312</td>\n",
       "      <td>2018</td>\n",
       "      <td>14843</td>\n",
       "    </tr>\n",
       "    <tr>\n",
       "      <th>All</th>\n",
       "      <td>92608</td>\n",
       "      <td>87073</td>\n",
       "      <td>81660</td>\n",
       "      <td>85391</td>\n",
       "      <td>82982</td>\n",
       "      <td>77479</td>\n",
       "      <td>80908</td>\n",
       "      <td>588101</td>\n",
       "    </tr>\n",
       "  </tbody>\n",
       "</table>\n",
       "</div>"
      ],
      "text/plain": [
       "most ads day  Friday  Monday  Saturday  Sunday  Thursday  Tuesday  Wednesday   \n",
       "converted                                                                      \n",
       "False          90551   84216     79941   83301     81192    75167      78890  \\\n",
       "True            2057    2857      1719    2090      1790     2312       2018   \n",
       "All            92608   87073     81660   85391     82982    77479      80908   \n",
       "\n",
       "most ads day     All  \n",
       "converted             \n",
       "False         573258  \n",
       "True           14843  \n",
       "All           588101  "
      ]
     },
     "execution_count": 76,
     "metadata": {},
     "output_type": "execute_result"
    }
   ],
   "source": [
    "# converted and most ads day\n",
    "ct2 = pd.crosstab(data[\"converted\"], data[\"most ads day\"], margins=True)\n",
    "ct2"
   ]
  },
  {
   "cell_type": "code",
   "execution_count": 77,
   "metadata": {},
   "outputs": [
    {
     "data": {
      "text/plain": [
       "array([[90551, 84216, 79941, 83301, 81192, 75167, 78890],\n",
       "       [ 2057,  2857,  1719,  2090,  1790,  2312,  2018]], dtype=int64)"
      ]
     },
     "execution_count": 77,
     "metadata": {},
     "output_type": "execute_result"
    }
   ],
   "source": [
    "d2 = np.array([ct2.iloc[0][: -1].values, ct2.iloc[1][: -1].values])\n",
    "d2"
   ]
  },
  {
   "cell_type": "code",
   "execution_count": 78,
   "metadata": {},
   "outputs": [
    {
     "name": "stdout",
     "output_type": "stream",
     "text": [
      "p_value2: 1.932184379244731e-85\n"
     ]
    }
   ],
   "source": [
    "result2 = stats.chi2_contingency(d2)\n",
    "print(\"p_value2:\", result2.pvalue)"
   ]
  },
  {
   "cell_type": "code",
   "execution_count": 79,
   "metadata": {},
   "outputs": [
    {
     "data": {
      "text/html": [
       "<div>\n",
       "<style scoped>\n",
       "    .dataframe tbody tr th:only-of-type {\n",
       "        vertical-align: middle;\n",
       "    }\n",
       "\n",
       "    .dataframe tbody tr th {\n",
       "        vertical-align: top;\n",
       "    }\n",
       "\n",
       "    .dataframe thead th {\n",
       "        text-align: right;\n",
       "    }\n",
       "</style>\n",
       "<table border=\"1\" class=\"dataframe\">\n",
       "  <thead>\n",
       "    <tr style=\"text-align: right;\">\n",
       "      <th>most ads hour</th>\n",
       "      <th>0</th>\n",
       "      <th>1</th>\n",
       "      <th>2</th>\n",
       "      <th>3</th>\n",
       "      <th>4</th>\n",
       "      <th>5</th>\n",
       "      <th>6</th>\n",
       "      <th>7</th>\n",
       "      <th>8</th>\n",
       "      <th>9</th>\n",
       "      <th>10</th>\n",
       "      <th>11</th>\n",
       "      <th>12</th>\n",
       "      <th>13</th>\n",
       "      <th>14</th>\n",
       "      <th>15</th>\n",
       "      <th>16</th>\n",
       "      <th>17</th>\n",
       "      <th>18</th>\n",
       "      <th>19</th>\n",
       "      <th>20</th>\n",
       "      <th>21</th>\n",
       "      <th>22</th>\n",
       "      <th>23</th>\n",
       "      <th>All</th>\n",
       "    </tr>\n",
       "    <tr>\n",
       "      <th>converted</th>\n",
       "      <th></th>\n",
       "      <th></th>\n",
       "      <th></th>\n",
       "      <th></th>\n",
       "      <th></th>\n",
       "      <th></th>\n",
       "      <th></th>\n",
       "      <th></th>\n",
       "      <th></th>\n",
       "      <th></th>\n",
       "      <th></th>\n",
       "      <th></th>\n",
       "      <th></th>\n",
       "      <th></th>\n",
       "      <th></th>\n",
       "      <th></th>\n",
       "      <th></th>\n",
       "      <th></th>\n",
       "      <th></th>\n",
       "      <th></th>\n",
       "      <th></th>\n",
       "      <th></th>\n",
       "      <th></th>\n",
       "      <th></th>\n",
       "      <th></th>\n",
       "    </tr>\n",
       "  </thead>\n",
       "  <tbody>\n",
       "    <tr>\n",
       "      <th>False</th>\n",
       "      <td>5434</td>\n",
       "      <td>4740</td>\n",
       "      <td>5294</td>\n",
       "      <td>2651</td>\n",
       "      <td>711</td>\n",
       "      <td>749</td>\n",
       "      <td>2022</td>\n",
       "      <td>6289</td>\n",
       "      <td>17283</td>\n",
       "      <td>30409</td>\n",
       "      <td>38101</td>\n",
       "      <td>45188</td>\n",
       "      <td>46171</td>\n",
       "      <td>46479</td>\n",
       "      <td>44367</td>\n",
       "      <td>43358</td>\n",
       "      <td>36411</td>\n",
       "      <td>34001</td>\n",
       "      <td>31438</td>\n",
       "      <td>29541</td>\n",
       "      <td>28061</td>\n",
       "      <td>29109</td>\n",
       "      <td>25742</td>\n",
       "      <td>19709</td>\n",
       "      <td>573258</td>\n",
       "    </tr>\n",
       "    <tr>\n",
       "      <th>True</th>\n",
       "      <td>102</td>\n",
       "      <td>62</td>\n",
       "      <td>39</td>\n",
       "      <td>28</td>\n",
       "      <td>11</td>\n",
       "      <td>16</td>\n",
       "      <td>46</td>\n",
       "      <td>116</td>\n",
       "      <td>344</td>\n",
       "      <td>595</td>\n",
       "      <td>838</td>\n",
       "      <td>1022</td>\n",
       "      <td>1127</td>\n",
       "      <td>1176</td>\n",
       "      <td>1281</td>\n",
       "      <td>1325</td>\n",
       "      <td>1156</td>\n",
       "      <td>987</td>\n",
       "      <td>885</td>\n",
       "      <td>811</td>\n",
       "      <td>862</td>\n",
       "      <td>867</td>\n",
       "      <td>690</td>\n",
       "      <td>457</td>\n",
       "      <td>14843</td>\n",
       "    </tr>\n",
       "    <tr>\n",
       "      <th>All</th>\n",
       "      <td>5536</td>\n",
       "      <td>4802</td>\n",
       "      <td>5333</td>\n",
       "      <td>2679</td>\n",
       "      <td>722</td>\n",
       "      <td>765</td>\n",
       "      <td>2068</td>\n",
       "      <td>6405</td>\n",
       "      <td>17627</td>\n",
       "      <td>31004</td>\n",
       "      <td>38939</td>\n",
       "      <td>46210</td>\n",
       "      <td>47298</td>\n",
       "      <td>47655</td>\n",
       "      <td>45648</td>\n",
       "      <td>44683</td>\n",
       "      <td>37567</td>\n",
       "      <td>34988</td>\n",
       "      <td>32323</td>\n",
       "      <td>30352</td>\n",
       "      <td>28923</td>\n",
       "      <td>29976</td>\n",
       "      <td>26432</td>\n",
       "      <td>20166</td>\n",
       "      <td>588101</td>\n",
       "    </tr>\n",
       "  </tbody>\n",
       "</table>\n",
       "</div>"
      ],
      "text/plain": [
       "most ads hour     0     1     2     3    4    5     6     7      8      9   \n",
       "converted                                                                   \n",
       "False          5434  4740  5294  2651  711  749  2022  6289  17283  30409  \\\n",
       "True            102    62    39    28   11   16    46   116    344    595   \n",
       "All            5536  4802  5333  2679  722  765  2068  6405  17627  31004   \n",
       "\n",
       "most ads hour     10     11     12     13     14     15     16     17     18   \n",
       "converted                                                                      \n",
       "False          38101  45188  46171  46479  44367  43358  36411  34001  31438  \\\n",
       "True             838   1022   1127   1176   1281   1325   1156    987    885   \n",
       "All            38939  46210  47298  47655  45648  44683  37567  34988  32323   \n",
       "\n",
       "most ads hour     19     20     21     22     23     All  \n",
       "converted                                                 \n",
       "False          29541  28061  29109  25742  19709  573258  \n",
       "True             811    862    867    690    457   14843  \n",
       "All            30352  28923  29976  26432  20166  588101  "
      ]
     },
     "execution_count": 79,
     "metadata": {},
     "output_type": "execute_result"
    }
   ],
   "source": [
    "# converted and most ads hour\n",
    "ct3 = pd.crosstab(data[\"converted\"], data[\"most ads hour\"], margins=True)\n",
    "ct3"
   ]
  },
  {
   "cell_type": "code",
   "execution_count": 80,
   "metadata": {},
   "outputs": [
    {
     "data": {
      "text/plain": [
       "array([[ 5434,  4740,  5294,  2651,   711,   749,  2022,  6289, 17283,\n",
       "        30409, 38101, 45188, 46171, 46479, 44367, 43358, 36411, 34001,\n",
       "        31438, 29541, 28061, 29109, 25742, 19709],\n",
       "       [  102,    62,    39,    28,    11,    16,    46,   116,   344,\n",
       "          595,   838,  1022,  1127,  1176,  1281,  1325,  1156,   987,\n",
       "          885,   811,   862,   867,   690,   457]], dtype=int64)"
      ]
     },
     "execution_count": 80,
     "metadata": {},
     "output_type": "execute_result"
    }
   ],
   "source": [
    "d3 = np.array([ct3.iloc[0][: -1].values, ct3.iloc[1][: -1].values])\n",
    "d3"
   ]
  },
  {
   "cell_type": "code",
   "execution_count": 81,
   "metadata": {},
   "outputs": [
    {
     "name": "stdout",
     "output_type": "stream",
     "text": [
      "p_value3: 8.027629823696771e-77\n"
     ]
    }
   ],
   "source": [
    "result3 = stats.chi2_contingency(d3)\n",
    "print(\"p_value3:\", result3.pvalue)"
   ]
  },
  {
   "cell_type": "markdown",
   "metadata": {},
   "source": [
    "<div dir = \"rtl\">\n",
    "\n",
    "بین متغییرهای most ads hour و converted ارتباط معناداری وجود دارد.(چون p_value کمتر از threshold=0.05 است)\n",
    "\n",
    "</div>"
   ]
  }
 ],
 "metadata": {
  "kernelspec": {
   "display_name": "venv7",
   "language": "python",
   "name": "python3"
  },
  "language_info": {
   "codemirror_mode": {
    "name": "ipython",
    "version": 3
   },
   "file_extension": ".py",
   "mimetype": "text/x-python",
   "name": "python",
   "nbconvert_exporter": "python",
   "pygments_lexer": "ipython3",
   "version": "3.9.6"
  }
 },
 "nbformat": 4,
 "nbformat_minor": 2
}
