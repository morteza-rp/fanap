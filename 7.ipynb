{
 "cells": [
  {
   "cell_type": "code",
   "execution_count": 1,
   "metadata": {},
   "outputs": [],
   "source": [
    "import os\n",
    "import numpy as np\n",
    "import pandas as pd\n",
    "import matplotlib.pyplot as plt\n",
    "import seaborn as sns\n",
    "import datetime as dt\n",
    "import nltk\n",
    "from nltk.corpus import stopwords\n",
    "from nltk.tokenize import word_tokenize\n",
    "from nltk.stem import PorterStemmer, SnowballStemmer"
   ]
  },
  {
   "cell_type": "code",
   "execution_count": 26,
   "metadata": {},
   "outputs": [
    {
     "data": {
      "text/html": [
       "<div>\n",
       "<style scoped>\n",
       "    .dataframe tbody tr th:only-of-type {\n",
       "        vertical-align: middle;\n",
       "    }\n",
       "\n",
       "    .dataframe tbody tr th {\n",
       "        vertical-align: top;\n",
       "    }\n",
       "\n",
       "    .dataframe thead th {\n",
       "        text-align: right;\n",
       "    }\n",
       "</style>\n",
       "<table border=\"1\" class=\"dataframe\">\n",
       "  <thead>\n",
       "    <tr style=\"text-align: right;\">\n",
       "      <th></th>\n",
       "      <th>InvoiceNo</th>\n",
       "      <th>StockCode</th>\n",
       "      <th>Description</th>\n",
       "      <th>Quantity</th>\n",
       "      <th>InvoiceDate</th>\n",
       "      <th>UnitPrice</th>\n",
       "      <th>CustomerID</th>\n",
       "      <th>Country</th>\n",
       "    </tr>\n",
       "  </thead>\n",
       "  <tbody>\n",
       "    <tr>\n",
       "      <th>0</th>\n",
       "      <td>536365</td>\n",
       "      <td>85123A</td>\n",
       "      <td>WHITE HANGING HEART T-LIGHT HOLDER</td>\n",
       "      <td>6</td>\n",
       "      <td>2010-12-01 08:26:00</td>\n",
       "      <td>2.55</td>\n",
       "      <td>17850.0</td>\n",
       "      <td>United Kingdom</td>\n",
       "    </tr>\n",
       "    <tr>\n",
       "      <th>1</th>\n",
       "      <td>536365</td>\n",
       "      <td>71053</td>\n",
       "      <td>WHITE METAL LANTERN</td>\n",
       "      <td>6</td>\n",
       "      <td>2010-12-01 08:26:00</td>\n",
       "      <td>3.39</td>\n",
       "      <td>17850.0</td>\n",
       "      <td>United Kingdom</td>\n",
       "    </tr>\n",
       "    <tr>\n",
       "      <th>2</th>\n",
       "      <td>536365</td>\n",
       "      <td>84406B</td>\n",
       "      <td>CREAM CUPID HEARTS COAT HANGER</td>\n",
       "      <td>8</td>\n",
       "      <td>2010-12-01 08:26:00</td>\n",
       "      <td>2.75</td>\n",
       "      <td>17850.0</td>\n",
       "      <td>United Kingdom</td>\n",
       "    </tr>\n",
       "    <tr>\n",
       "      <th>3</th>\n",
       "      <td>536365</td>\n",
       "      <td>84029G</td>\n",
       "      <td>KNITTED UNION FLAG HOT WATER BOTTLE</td>\n",
       "      <td>6</td>\n",
       "      <td>2010-12-01 08:26:00</td>\n",
       "      <td>3.39</td>\n",
       "      <td>17850.0</td>\n",
       "      <td>United Kingdom</td>\n",
       "    </tr>\n",
       "    <tr>\n",
       "      <th>4</th>\n",
       "      <td>536365</td>\n",
       "      <td>84029E</td>\n",
       "      <td>RED WOOLLY HOTTIE WHITE HEART.</td>\n",
       "      <td>6</td>\n",
       "      <td>2010-12-01 08:26:00</td>\n",
       "      <td>3.39</td>\n",
       "      <td>17850.0</td>\n",
       "      <td>United Kingdom</td>\n",
       "    </tr>\n",
       "    <tr>\n",
       "      <th>...</th>\n",
       "      <td>...</td>\n",
       "      <td>...</td>\n",
       "      <td>...</td>\n",
       "      <td>...</td>\n",
       "      <td>...</td>\n",
       "      <td>...</td>\n",
       "      <td>...</td>\n",
       "      <td>...</td>\n",
       "    </tr>\n",
       "    <tr>\n",
       "      <th>541904</th>\n",
       "      <td>581587</td>\n",
       "      <td>22613</td>\n",
       "      <td>PACK OF 20 SPACEBOY NAPKINS</td>\n",
       "      <td>12</td>\n",
       "      <td>2011-12-09 12:50:00</td>\n",
       "      <td>0.85</td>\n",
       "      <td>12680.0</td>\n",
       "      <td>France</td>\n",
       "    </tr>\n",
       "    <tr>\n",
       "      <th>541905</th>\n",
       "      <td>581587</td>\n",
       "      <td>22899</td>\n",
       "      <td>CHILDREN'S APRON DOLLY GIRL</td>\n",
       "      <td>6</td>\n",
       "      <td>2011-12-09 12:50:00</td>\n",
       "      <td>2.10</td>\n",
       "      <td>12680.0</td>\n",
       "      <td>France</td>\n",
       "    </tr>\n",
       "    <tr>\n",
       "      <th>541906</th>\n",
       "      <td>581587</td>\n",
       "      <td>23254</td>\n",
       "      <td>CHILDRENS CUTLERY DOLLY GIRL</td>\n",
       "      <td>4</td>\n",
       "      <td>2011-12-09 12:50:00</td>\n",
       "      <td>4.15</td>\n",
       "      <td>12680.0</td>\n",
       "      <td>France</td>\n",
       "    </tr>\n",
       "    <tr>\n",
       "      <th>541907</th>\n",
       "      <td>581587</td>\n",
       "      <td>23255</td>\n",
       "      <td>CHILDRENS CUTLERY CIRCUS PARADE</td>\n",
       "      <td>4</td>\n",
       "      <td>2011-12-09 12:50:00</td>\n",
       "      <td>4.15</td>\n",
       "      <td>12680.0</td>\n",
       "      <td>France</td>\n",
       "    </tr>\n",
       "    <tr>\n",
       "      <th>541908</th>\n",
       "      <td>581587</td>\n",
       "      <td>22138</td>\n",
       "      <td>BAKING SET 9 PIECE RETROSPOT</td>\n",
       "      <td>3</td>\n",
       "      <td>2011-12-09 12:50:00</td>\n",
       "      <td>4.95</td>\n",
       "      <td>12680.0</td>\n",
       "      <td>France</td>\n",
       "    </tr>\n",
       "  </tbody>\n",
       "</table>\n",
       "<p>541909 rows × 8 columns</p>\n",
       "</div>"
      ],
      "text/plain": [
       "       InvoiceNo StockCode                          Description  Quantity   \n",
       "0         536365    85123A   WHITE HANGING HEART T-LIGHT HOLDER         6  \\\n",
       "1         536365     71053                  WHITE METAL LANTERN         6   \n",
       "2         536365    84406B       CREAM CUPID HEARTS COAT HANGER         8   \n",
       "3         536365    84029G  KNITTED UNION FLAG HOT WATER BOTTLE         6   \n",
       "4         536365    84029E       RED WOOLLY HOTTIE WHITE HEART.         6   \n",
       "...          ...       ...                                  ...       ...   \n",
       "541904    581587     22613          PACK OF 20 SPACEBOY NAPKINS        12   \n",
       "541905    581587     22899         CHILDREN'S APRON DOLLY GIRL          6   \n",
       "541906    581587     23254        CHILDRENS CUTLERY DOLLY GIRL          4   \n",
       "541907    581587     23255      CHILDRENS CUTLERY CIRCUS PARADE         4   \n",
       "541908    581587     22138        BAKING SET 9 PIECE RETROSPOT          3   \n",
       "\n",
       "               InvoiceDate  UnitPrice  CustomerID         Country  \n",
       "0      2010-12-01 08:26:00       2.55     17850.0  United Kingdom  \n",
       "1      2010-12-01 08:26:00       3.39     17850.0  United Kingdom  \n",
       "2      2010-12-01 08:26:00       2.75     17850.0  United Kingdom  \n",
       "3      2010-12-01 08:26:00       3.39     17850.0  United Kingdom  \n",
       "4      2010-12-01 08:26:00       3.39     17850.0  United Kingdom  \n",
       "...                    ...        ...         ...             ...  \n",
       "541904 2011-12-09 12:50:00       0.85     12680.0          France  \n",
       "541905 2011-12-09 12:50:00       2.10     12680.0          France  \n",
       "541906 2011-12-09 12:50:00       4.15     12680.0          France  \n",
       "541907 2011-12-09 12:50:00       4.15     12680.0          France  \n",
       "541908 2011-12-09 12:50:00       4.95     12680.0          France  \n",
       "\n",
       "[541909 rows x 8 columns]"
      ]
     },
     "execution_count": 26,
     "metadata": {},
     "output_type": "execute_result"
    }
   ],
   "source": [
    "data = pd.read_excel('Online Retail.xlsx')\n",
    "data"
   ]
  },
  {
   "cell_type": "code",
   "execution_count": 27,
   "metadata": {},
   "outputs": [
    {
     "name": "stdout",
     "output_type": "stream",
     "text": [
      "<class 'pandas.core.frame.DataFrame'>\n",
      "RangeIndex: 541909 entries, 0 to 541908\n",
      "Data columns (total 8 columns):\n",
      " #   Column       Non-Null Count   Dtype         \n",
      "---  ------       --------------   -----         \n",
      " 0   InvoiceNo    541909 non-null  object        \n",
      " 1   StockCode    541909 non-null  object        \n",
      " 2   Description  540455 non-null  object        \n",
      " 3   Quantity     541909 non-null  int64         \n",
      " 4   InvoiceDate  541909 non-null  datetime64[ns]\n",
      " 5   UnitPrice    541909 non-null  float64       \n",
      " 6   CustomerID   406829 non-null  float64       \n",
      " 7   Country      541909 non-null  object        \n",
      "dtypes: datetime64[ns](1), float64(2), int64(1), object(4)\n",
      "memory usage: 33.1+ MB\n"
     ]
    }
   ],
   "source": [
    "data.info()"
   ]
  },
  {
   "cell_type": "code",
   "execution_count": 28,
   "metadata": {},
   "outputs": [],
   "source": [
    "data = data[data[\"CustomerID\"].notna()]"
   ]
  },
  {
   "cell_type": "code",
   "execution_count": 29,
   "metadata": {},
   "outputs": [
    {
     "name": "stdout",
     "output_type": "stream",
     "text": [
      "<class 'pandas.core.frame.DataFrame'>\n",
      "Index: 406829 entries, 0 to 541908\n",
      "Data columns (total 8 columns):\n",
      " #   Column       Non-Null Count   Dtype         \n",
      "---  ------       --------------   -----         \n",
      " 0   InvoiceNo    406829 non-null  object        \n",
      " 1   StockCode    406829 non-null  object        \n",
      " 2   Description  406829 non-null  object        \n",
      " 3   Quantity     406829 non-null  int64         \n",
      " 4   InvoiceDate  406829 non-null  datetime64[ns]\n",
      " 5   UnitPrice    406829 non-null  float64       \n",
      " 6   CustomerID   406829 non-null  float64       \n",
      " 7   Country      406829 non-null  object        \n",
      "dtypes: datetime64[ns](1), float64(2), int64(1), object(4)\n",
      "memory usage: 27.9+ MB\n"
     ]
    }
   ],
   "source": [
    "data.info()"
   ]
  },
  {
   "cell_type": "code",
   "execution_count": 30,
   "metadata": {},
   "outputs": [
    {
     "name": "stderr",
     "output_type": "stream",
     "text": [
      "C:\\Users\\MR-14\\AppData\\Local\\Temp\\ipykernel_2448\\1841269460.py:1: SettingWithCopyWarning: \n",
      "A value is trying to be set on a copy of a slice from a DataFrame.\n",
      "Try using .loc[row_indexer,col_indexer] = value instead\n",
      "\n",
      "See the caveats in the documentation: https://pandas.pydata.org/pandas-docs/stable/user_guide/indexing.html#returning-a-view-versus-a-copy\n",
      "  data['InvoiceDay'] = data['InvoiceDate'].apply(lambda x: dt.datetime(x.year, x.month, x.day))\n"
     ]
    }
   ],
   "source": [
    "data['InvoiceDay'] = data['InvoiceDate'].apply(lambda x: dt.datetime(x.year, x.month, x.day))"
   ]
  },
  {
   "cell_type": "code",
   "execution_count": 31,
   "metadata": {},
   "outputs": [
    {
     "data": {
      "text/html": [
       "<div>\n",
       "<style scoped>\n",
       "    .dataframe tbody tr th:only-of-type {\n",
       "        vertical-align: middle;\n",
       "    }\n",
       "\n",
       "    .dataframe tbody tr th {\n",
       "        vertical-align: top;\n",
       "    }\n",
       "\n",
       "    .dataframe thead th {\n",
       "        text-align: right;\n",
       "    }\n",
       "</style>\n",
       "<table border=\"1\" class=\"dataframe\">\n",
       "  <thead>\n",
       "    <tr style=\"text-align: right;\">\n",
       "      <th></th>\n",
       "      <th>Quantity</th>\n",
       "      <th>InvoiceDate</th>\n",
       "      <th>UnitPrice</th>\n",
       "      <th>CustomerID</th>\n",
       "      <th>InvoiceDay</th>\n",
       "    </tr>\n",
       "  </thead>\n",
       "  <tbody>\n",
       "    <tr>\n",
       "      <th>count</th>\n",
       "      <td>406829.000000</td>\n",
       "      <td>406829</td>\n",
       "      <td>406829.000000</td>\n",
       "      <td>406829.000000</td>\n",
       "      <td>406829</td>\n",
       "    </tr>\n",
       "    <tr>\n",
       "      <th>mean</th>\n",
       "      <td>12.061303</td>\n",
       "      <td>2011-07-10 16:30:57.879207424</td>\n",
       "      <td>3.460471</td>\n",
       "      <td>15287.690570</td>\n",
       "      <td>2011-07-10 03:16:19.124890624</td>\n",
       "    </tr>\n",
       "    <tr>\n",
       "      <th>min</th>\n",
       "      <td>-80995.000000</td>\n",
       "      <td>2010-12-01 08:26:00</td>\n",
       "      <td>0.000000</td>\n",
       "      <td>12346.000000</td>\n",
       "      <td>2010-12-01 00:00:00</td>\n",
       "    </tr>\n",
       "    <tr>\n",
       "      <th>25%</th>\n",
       "      <td>2.000000</td>\n",
       "      <td>2011-04-06 15:02:00</td>\n",
       "      <td>1.250000</td>\n",
       "      <td>13953.000000</td>\n",
       "      <td>2011-04-06 00:00:00</td>\n",
       "    </tr>\n",
       "    <tr>\n",
       "      <th>50%</th>\n",
       "      <td>5.000000</td>\n",
       "      <td>2011-07-31 11:48:00</td>\n",
       "      <td>1.950000</td>\n",
       "      <td>15152.000000</td>\n",
       "      <td>2011-07-31 00:00:00</td>\n",
       "    </tr>\n",
       "    <tr>\n",
       "      <th>75%</th>\n",
       "      <td>12.000000</td>\n",
       "      <td>2011-10-20 13:06:00</td>\n",
       "      <td>3.750000</td>\n",
       "      <td>16791.000000</td>\n",
       "      <td>2011-10-20 00:00:00</td>\n",
       "    </tr>\n",
       "    <tr>\n",
       "      <th>max</th>\n",
       "      <td>80995.000000</td>\n",
       "      <td>2011-12-09 12:50:00</td>\n",
       "      <td>38970.000000</td>\n",
       "      <td>18287.000000</td>\n",
       "      <td>2011-12-09 00:00:00</td>\n",
       "    </tr>\n",
       "    <tr>\n",
       "      <th>std</th>\n",
       "      <td>248.693370</td>\n",
       "      <td>NaN</td>\n",
       "      <td>69.315162</td>\n",
       "      <td>1713.600303</td>\n",
       "      <td>NaN</td>\n",
       "    </tr>\n",
       "  </tbody>\n",
       "</table>\n",
       "</div>"
      ],
      "text/plain": [
       "            Quantity                    InvoiceDate      UnitPrice   \n",
       "count  406829.000000                         406829  406829.000000  \\\n",
       "mean       12.061303  2011-07-10 16:30:57.879207424       3.460471   \n",
       "min    -80995.000000            2010-12-01 08:26:00       0.000000   \n",
       "25%         2.000000            2011-04-06 15:02:00       1.250000   \n",
       "50%         5.000000            2011-07-31 11:48:00       1.950000   \n",
       "75%        12.000000            2011-10-20 13:06:00       3.750000   \n",
       "max     80995.000000            2011-12-09 12:50:00   38970.000000   \n",
       "std       248.693370                            NaN      69.315162   \n",
       "\n",
       "          CustomerID                     InvoiceDay  \n",
       "count  406829.000000                         406829  \n",
       "mean    15287.690570  2011-07-10 03:16:19.124890624  \n",
       "min     12346.000000            2010-12-01 00:00:00  \n",
       "25%     13953.000000            2011-04-06 00:00:00  \n",
       "50%     15152.000000            2011-07-31 00:00:00  \n",
       "75%     16791.000000            2011-10-20 00:00:00  \n",
       "max     18287.000000            2011-12-09 00:00:00  \n",
       "std      1713.600303                            NaN  "
      ]
     },
     "execution_count": 31,
     "metadata": {},
     "output_type": "execute_result"
    }
   ],
   "source": [
    "data.describe()"
   ]
  },
  {
   "cell_type": "code",
   "execution_count": 8,
   "metadata": {},
   "outputs": [
    {
     "data": {
      "text/plain": [
       "['WHITE', 'HANGING', 'HEART', 'T-LIGHT', 'HOLDER']"
      ]
     },
     "execution_count": 8,
     "metadata": {},
     "output_type": "execute_result"
    }
   ],
   "source": [
    "word_tokenize(data[\"Description\"][0])"
   ]
  },
  {
   "cell_type": "code",
   "execution_count": 9,
   "metadata": {},
   "outputs": [
    {
     "data": {
      "text/plain": [
       "['WHITE', 'HANGING', 'HEART', 'T-LIGHT', 'HOLDER']"
      ]
     },
     "execution_count": 9,
     "metadata": {},
     "output_type": "execute_result"
    }
   ],
   "source": [
    "[w for w in word_tokenize(data[\"Description\"][0]) if not w in stopwords.words('english')]"
   ]
  },
  {
   "cell_type": "code",
   "execution_count": 14,
   "metadata": {},
   "outputs": [
    {
     "name": "stdout",
     "output_type": "stream",
     "text": [
      "Original words: ['WHITE', 'HANGING', 'HEART', 'T-LIGHT', 'HOLDER']\n",
      "Stemmed words: ['white', 'hang', 'heart', 't-light', 'holder']\n"
     ]
    }
   ],
   "source": [
    "# Choose a language for stemming, for example, English\n",
    "stemmer = SnowballStemmer(language='english')\n",
    "\n",
    "# Example words to stem\n",
    "words_to_stem = [w for w in word_tokenize(data[\"Description\"][0]) if not w in stopwords.words('english')]\n",
    "\n",
    "\n",
    "# Apply Snowball Stemmer\n",
    "stemmed_words = [stemmer.stem(word) for word in words_to_stem]\n",
    "\n",
    "# Print the results\n",
    "print(\"Original words:\", words_to_stem)\n",
    "print(\"Stemmed words:\", stemmed_words)\n"
   ]
  },
  {
   "cell_type": "code",
   "execution_count": 19,
   "metadata": {},
   "outputs": [
    {
     "data": {
      "text/plain": [
       "['WHITE', 'HANGING', 'HEART', 'T-LIGHT', 'HOLDER']"
      ]
     },
     "execution_count": 19,
     "metadata": {},
     "output_type": "execute_result"
    }
   ],
   "source": [
    "lemma = nltk.wordnet.WordNetLemmatizer()\n",
    "\n",
    "stemmed_words = [lemma.lemmatize(word) for word in words_to_stem]\n",
    "stemmed_words\n"
   ]
  },
  {
   "cell_type": "code",
   "execution_count": 17,
   "metadata": {},
   "outputs": [
    {
     "name": "stderr",
     "output_type": "stream",
     "text": [
      "[nltk_data] Downloading package wordnet to\n",
      "[nltk_data]     C:\\Users\\MR-14\\AppData\\Roaming\\nltk_data...\n"
     ]
    },
    {
     "data": {
      "text/plain": [
       "True"
      ]
     },
     "execution_count": 17,
     "metadata": {},
     "output_type": "execute_result"
    }
   ],
   "source": [
    "nltk.download('wordnet')"
   ]
  },
  {
   "cell_type": "code",
   "execution_count": 25,
   "metadata": {},
   "outputs": [
    {
     "name": "stdout",
     "output_type": "stream",
     "text": [
      "[[0 0 0 ... 0 0 0]\n",
      " [0 0 0 ... 0 0 0]\n",
      " [0 0 0 ... 0 0 0]\n",
      " ...\n",
      " [0 0 0 ... 0 0 0]\n",
      " [0 0 0 ... 0 0 0]\n",
      " [0 0 0 ... 0 0 0]]\n"
     ]
    },
    {
     "data": {
      "text/plain": [
       "array(['10 balloons', '10 blue', '10 cards', ..., 'zinc watering',\n",
       "       'zinc willie', 'zinc wire'], dtype=object)"
      ]
     },
     "execution_count": 25,
     "metadata": {},
     "output_type": "execute_result"
    }
   ],
   "source": [
    "from sklearn.feature_extraction.text import CountVectorizer\n",
    "corpus = data[\"Description\"]\n",
    "vectorizer = CountVectorizer()\n",
    "X = vectorizer.fit_transform(corpus)\n",
    "vectorizer.get_feature_names_out()\n",
    "print(X.toarray())\n",
    "vectorizer2 = CountVectorizer(analyzer='word', ngram_range=(2, 2))\n",
    "X2 = vectorizer2.fit_transform(corpus)\n",
    "vectorizer2.get_feature_names_out()"
   ]
  },
  {
   "cell_type": "code",
   "execution_count": 27,
   "metadata": {},
   "outputs": [
    {
     "data": {
      "text/plain": [
       "6967"
      ]
     },
     "execution_count": 27,
     "metadata": {},
     "output_type": "execute_result"
    }
   ],
   "source": [
    "len(vectorizer2.get_feature_names_out())\n"
   ]
  },
  {
   "cell_type": "code",
   "execution_count": 32,
   "metadata": {},
   "outputs": [
    {
     "name": "stderr",
     "output_type": "stream",
     "text": [
      "C:\\Users\\MR-14\\AppData\\Local\\Temp\\ipykernel_2448\\3696299223.py:1: SettingWithCopyWarning: \n",
      "A value is trying to be set on a copy of a slice from a DataFrame.\n",
      "Try using .loc[row_indexer,col_indexer] = value instead\n",
      "\n",
      "See the caveats in the documentation: https://pandas.pydata.org/pandas-docs/stable/user_guide/indexing.html#returning-a-view-versus-a-copy\n",
      "  data[\"Cost\"] = data[\"Quantity\"] * data[\"UnitPrice\"]\n"
     ]
    }
   ],
   "source": [
    "data[\"Cost\"] = data[\"Quantity\"] * data[\"UnitPrice\"]"
   ]
  },
  {
   "cell_type": "code",
   "execution_count": 33,
   "metadata": {},
   "outputs": [
    {
     "data": {
      "text/html": [
       "<div>\n",
       "<style scoped>\n",
       "    .dataframe tbody tr th:only-of-type {\n",
       "        vertical-align: middle;\n",
       "    }\n",
       "\n",
       "    .dataframe tbody tr th {\n",
       "        vertical-align: top;\n",
       "    }\n",
       "\n",
       "    .dataframe thead th {\n",
       "        text-align: right;\n",
       "    }\n",
       "</style>\n",
       "<table border=\"1\" class=\"dataframe\">\n",
       "  <thead>\n",
       "    <tr style=\"text-align: right;\">\n",
       "      <th></th>\n",
       "      <th>InvoiceNo</th>\n",
       "      <th>StockCode</th>\n",
       "      <th>Description</th>\n",
       "      <th>Quantity</th>\n",
       "      <th>InvoiceDate</th>\n",
       "      <th>UnitPrice</th>\n",
       "      <th>CustomerID</th>\n",
       "      <th>Country</th>\n",
       "      <th>InvoiceDay</th>\n",
       "      <th>Cost</th>\n",
       "    </tr>\n",
       "  </thead>\n",
       "  <tbody>\n",
       "    <tr>\n",
       "      <th>0</th>\n",
       "      <td>536365</td>\n",
       "      <td>85123A</td>\n",
       "      <td>WHITE HANGING HEART T-LIGHT HOLDER</td>\n",
       "      <td>6</td>\n",
       "      <td>2010-12-01 08:26:00</td>\n",
       "      <td>2.55</td>\n",
       "      <td>17850.0</td>\n",
       "      <td>United Kingdom</td>\n",
       "      <td>2010-12-01</td>\n",
       "      <td>15.30</td>\n",
       "    </tr>\n",
       "    <tr>\n",
       "      <th>1</th>\n",
       "      <td>536365</td>\n",
       "      <td>71053</td>\n",
       "      <td>WHITE METAL LANTERN</td>\n",
       "      <td>6</td>\n",
       "      <td>2010-12-01 08:26:00</td>\n",
       "      <td>3.39</td>\n",
       "      <td>17850.0</td>\n",
       "      <td>United Kingdom</td>\n",
       "      <td>2010-12-01</td>\n",
       "      <td>20.34</td>\n",
       "    </tr>\n",
       "    <tr>\n",
       "      <th>2</th>\n",
       "      <td>536365</td>\n",
       "      <td>84406B</td>\n",
       "      <td>CREAM CUPID HEARTS COAT HANGER</td>\n",
       "      <td>8</td>\n",
       "      <td>2010-12-01 08:26:00</td>\n",
       "      <td>2.75</td>\n",
       "      <td>17850.0</td>\n",
       "      <td>United Kingdom</td>\n",
       "      <td>2010-12-01</td>\n",
       "      <td>22.00</td>\n",
       "    </tr>\n",
       "    <tr>\n",
       "      <th>3</th>\n",
       "      <td>536365</td>\n",
       "      <td>84029G</td>\n",
       "      <td>KNITTED UNION FLAG HOT WATER BOTTLE</td>\n",
       "      <td>6</td>\n",
       "      <td>2010-12-01 08:26:00</td>\n",
       "      <td>3.39</td>\n",
       "      <td>17850.0</td>\n",
       "      <td>United Kingdom</td>\n",
       "      <td>2010-12-01</td>\n",
       "      <td>20.34</td>\n",
       "    </tr>\n",
       "    <tr>\n",
       "      <th>4</th>\n",
       "      <td>536365</td>\n",
       "      <td>84029E</td>\n",
       "      <td>RED WOOLLY HOTTIE WHITE HEART.</td>\n",
       "      <td>6</td>\n",
       "      <td>2010-12-01 08:26:00</td>\n",
       "      <td>3.39</td>\n",
       "      <td>17850.0</td>\n",
       "      <td>United Kingdom</td>\n",
       "      <td>2010-12-01</td>\n",
       "      <td>20.34</td>\n",
       "    </tr>\n",
       "    <tr>\n",
       "      <th>...</th>\n",
       "      <td>...</td>\n",
       "      <td>...</td>\n",
       "      <td>...</td>\n",
       "      <td>...</td>\n",
       "      <td>...</td>\n",
       "      <td>...</td>\n",
       "      <td>...</td>\n",
       "      <td>...</td>\n",
       "      <td>...</td>\n",
       "      <td>...</td>\n",
       "    </tr>\n",
       "    <tr>\n",
       "      <th>541904</th>\n",
       "      <td>581587</td>\n",
       "      <td>22613</td>\n",
       "      <td>PACK OF 20 SPACEBOY NAPKINS</td>\n",
       "      <td>12</td>\n",
       "      <td>2011-12-09 12:50:00</td>\n",
       "      <td>0.85</td>\n",
       "      <td>12680.0</td>\n",
       "      <td>France</td>\n",
       "      <td>2011-12-09</td>\n",
       "      <td>10.20</td>\n",
       "    </tr>\n",
       "    <tr>\n",
       "      <th>541905</th>\n",
       "      <td>581587</td>\n",
       "      <td>22899</td>\n",
       "      <td>CHILDREN'S APRON DOLLY GIRL</td>\n",
       "      <td>6</td>\n",
       "      <td>2011-12-09 12:50:00</td>\n",
       "      <td>2.10</td>\n",
       "      <td>12680.0</td>\n",
       "      <td>France</td>\n",
       "      <td>2011-12-09</td>\n",
       "      <td>12.60</td>\n",
       "    </tr>\n",
       "    <tr>\n",
       "      <th>541906</th>\n",
       "      <td>581587</td>\n",
       "      <td>23254</td>\n",
       "      <td>CHILDRENS CUTLERY DOLLY GIRL</td>\n",
       "      <td>4</td>\n",
       "      <td>2011-12-09 12:50:00</td>\n",
       "      <td>4.15</td>\n",
       "      <td>12680.0</td>\n",
       "      <td>France</td>\n",
       "      <td>2011-12-09</td>\n",
       "      <td>16.60</td>\n",
       "    </tr>\n",
       "    <tr>\n",
       "      <th>541907</th>\n",
       "      <td>581587</td>\n",
       "      <td>23255</td>\n",
       "      <td>CHILDRENS CUTLERY CIRCUS PARADE</td>\n",
       "      <td>4</td>\n",
       "      <td>2011-12-09 12:50:00</td>\n",
       "      <td>4.15</td>\n",
       "      <td>12680.0</td>\n",
       "      <td>France</td>\n",
       "      <td>2011-12-09</td>\n",
       "      <td>16.60</td>\n",
       "    </tr>\n",
       "    <tr>\n",
       "      <th>541908</th>\n",
       "      <td>581587</td>\n",
       "      <td>22138</td>\n",
       "      <td>BAKING SET 9 PIECE RETROSPOT</td>\n",
       "      <td>3</td>\n",
       "      <td>2011-12-09 12:50:00</td>\n",
       "      <td>4.95</td>\n",
       "      <td>12680.0</td>\n",
       "      <td>France</td>\n",
       "      <td>2011-12-09</td>\n",
       "      <td>14.85</td>\n",
       "    </tr>\n",
       "  </tbody>\n",
       "</table>\n",
       "<p>406829 rows × 10 columns</p>\n",
       "</div>"
      ],
      "text/plain": [
       "       InvoiceNo StockCode                          Description  Quantity   \n",
       "0         536365    85123A   WHITE HANGING HEART T-LIGHT HOLDER         6  \\\n",
       "1         536365     71053                  WHITE METAL LANTERN         6   \n",
       "2         536365    84406B       CREAM CUPID HEARTS COAT HANGER         8   \n",
       "3         536365    84029G  KNITTED UNION FLAG HOT WATER BOTTLE         6   \n",
       "4         536365    84029E       RED WOOLLY HOTTIE WHITE HEART.         6   \n",
       "...          ...       ...                                  ...       ...   \n",
       "541904    581587     22613          PACK OF 20 SPACEBOY NAPKINS        12   \n",
       "541905    581587     22899         CHILDREN'S APRON DOLLY GIRL          6   \n",
       "541906    581587     23254        CHILDRENS CUTLERY DOLLY GIRL          4   \n",
       "541907    581587     23255      CHILDRENS CUTLERY CIRCUS PARADE         4   \n",
       "541908    581587     22138        BAKING SET 9 PIECE RETROSPOT          3   \n",
       "\n",
       "               InvoiceDate  UnitPrice  CustomerID         Country InvoiceDay   \n",
       "0      2010-12-01 08:26:00       2.55     17850.0  United Kingdom 2010-12-01  \\\n",
       "1      2010-12-01 08:26:00       3.39     17850.0  United Kingdom 2010-12-01   \n",
       "2      2010-12-01 08:26:00       2.75     17850.0  United Kingdom 2010-12-01   \n",
       "3      2010-12-01 08:26:00       3.39     17850.0  United Kingdom 2010-12-01   \n",
       "4      2010-12-01 08:26:00       3.39     17850.0  United Kingdom 2010-12-01   \n",
       "...                    ...        ...         ...             ...        ...   \n",
       "541904 2011-12-09 12:50:00       0.85     12680.0          France 2011-12-09   \n",
       "541905 2011-12-09 12:50:00       2.10     12680.0          France 2011-12-09   \n",
       "541906 2011-12-09 12:50:00       4.15     12680.0          France 2011-12-09   \n",
       "541907 2011-12-09 12:50:00       4.15     12680.0          France 2011-12-09   \n",
       "541908 2011-12-09 12:50:00       4.95     12680.0          France 2011-12-09   \n",
       "\n",
       "         Cost  \n",
       "0       15.30  \n",
       "1       20.34  \n",
       "2       22.00  \n",
       "3       20.34  \n",
       "4       20.34  \n",
       "...       ...  \n",
       "541904  10.20  \n",
       "541905  12.60  \n",
       "541906  16.60  \n",
       "541907  16.60  \n",
       "541908  14.85  \n",
       "\n",
       "[406829 rows x 10 columns]"
      ]
     },
     "execution_count": 33,
     "metadata": {},
     "output_type": "execute_result"
    }
   ],
   "source": [
    "data"
   ]
  },
  {
   "cell_type": "code",
   "execution_count": 34,
   "metadata": {},
   "outputs": [
    {
     "data": {
      "text/html": [
       "<div>\n",
       "<style scoped>\n",
       "    .dataframe tbody tr th:only-of-type {\n",
       "        vertical-align: middle;\n",
       "    }\n",
       "\n",
       "    .dataframe tbody tr th {\n",
       "        vertical-align: top;\n",
       "    }\n",
       "\n",
       "    .dataframe thead th {\n",
       "        text-align: right;\n",
       "    }\n",
       "</style>\n",
       "<table border=\"1\" class=\"dataframe\">\n",
       "  <thead>\n",
       "    <tr style=\"text-align: right;\">\n",
       "      <th></th>\n",
       "      <th>All_Cost</th>\n",
       "      <th>All_Description</th>\n",
       "      <th>Country</th>\n",
       "      <th>InvoiceNo_count</th>\n",
       "    </tr>\n",
       "    <tr>\n",
       "      <th>CustomerID</th>\n",
       "      <th></th>\n",
       "      <th></th>\n",
       "      <th></th>\n",
       "      <th></th>\n",
       "    </tr>\n",
       "  </thead>\n",
       "  <tbody>\n",
       "    <tr>\n",
       "      <th>12346.0</th>\n",
       "      <td>0.00</td>\n",
       "      <td>[MEDIUM CERAMIC TOP STORAGE JAR, MEDIUM CERAMI...</td>\n",
       "      <td>United Kingdom</td>\n",
       "      <td>2</td>\n",
       "    </tr>\n",
       "    <tr>\n",
       "      <th>12347.0</th>\n",
       "      <td>4310.00</td>\n",
       "      <td>[BLACK CANDELABRA T-LIGHT HOLDER, AIRLINE BAG ...</td>\n",
       "      <td>Iceland</td>\n",
       "      <td>182</td>\n",
       "    </tr>\n",
       "    <tr>\n",
       "      <th>12348.0</th>\n",
       "      <td>1797.24</td>\n",
       "      <td>[72 SWEETHEART FAIRY CAKE CASES, 60 CAKE CASES...</td>\n",
       "      <td>Finland</td>\n",
       "      <td>31</td>\n",
       "    </tr>\n",
       "    <tr>\n",
       "      <th>12349.0</th>\n",
       "      <td>1757.55</td>\n",
       "      <td>[PARISIENNE CURIO CABINET, SWEETHEART WALL TID...</td>\n",
       "      <td>Italy</td>\n",
       "      <td>73</td>\n",
       "    </tr>\n",
       "    <tr>\n",
       "      <th>12350.0</th>\n",
       "      <td>334.40</td>\n",
       "      <td>[CHOCOLATE THIS WAY METAL SIGN, METAL SIGN NEI...</td>\n",
       "      <td>Norway</td>\n",
       "      <td>17</td>\n",
       "    </tr>\n",
       "    <tr>\n",
       "      <th>...</th>\n",
       "      <td>...</td>\n",
       "      <td>...</td>\n",
       "      <td>...</td>\n",
       "      <td>...</td>\n",
       "    </tr>\n",
       "    <tr>\n",
       "      <th>18280.0</th>\n",
       "      <td>180.60</td>\n",
       "      <td>[WOOD BLACK BOARD ANT WHITE FINISH, RETROSPOT ...</td>\n",
       "      <td>United Kingdom</td>\n",
       "      <td>10</td>\n",
       "    </tr>\n",
       "    <tr>\n",
       "      <th>18281.0</th>\n",
       "      <td>80.82</td>\n",
       "      <td>[ROBOT BIRTHDAY CARD, CARD CIRCUS PARADE, PENN...</td>\n",
       "      <td>United Kingdom</td>\n",
       "      <td>7</td>\n",
       "    </tr>\n",
       "    <tr>\n",
       "      <th>18282.0</th>\n",
       "      <td>176.60</td>\n",
       "      <td>[ANTIQUE CREAM CUTLERY CUPBOARD, FRENCH STYLE ...</td>\n",
       "      <td>United Kingdom</td>\n",
       "      <td>13</td>\n",
       "    </tr>\n",
       "    <tr>\n",
       "      <th>18283.0</th>\n",
       "      <td>2094.88</td>\n",
       "      <td>[CHARLOTTE BAG PINK POLKADOT, LUNCH BAG WOODLA...</td>\n",
       "      <td>United Kingdom</td>\n",
       "      <td>756</td>\n",
       "    </tr>\n",
       "    <tr>\n",
       "      <th>18287.0</th>\n",
       "      <td>1837.28</td>\n",
       "      <td>[SMALL PURPLE BABUSHKA NOTEBOOK , SMALL RED BA...</td>\n",
       "      <td>United Kingdom</td>\n",
       "      <td>70</td>\n",
       "    </tr>\n",
       "  </tbody>\n",
       "</table>\n",
       "<p>4372 rows × 4 columns</p>\n",
       "</div>"
      ],
      "text/plain": [
       "            All_Cost                                    All_Description   \n",
       "CustomerID                                                                \n",
       "12346.0         0.00  [MEDIUM CERAMIC TOP STORAGE JAR, MEDIUM CERAMI...  \\\n",
       "12347.0      4310.00  [BLACK CANDELABRA T-LIGHT HOLDER, AIRLINE BAG ...   \n",
       "12348.0      1797.24  [72 SWEETHEART FAIRY CAKE CASES, 60 CAKE CASES...   \n",
       "12349.0      1757.55  [PARISIENNE CURIO CABINET, SWEETHEART WALL TID...   \n",
       "12350.0       334.40  [CHOCOLATE THIS WAY METAL SIGN, METAL SIGN NEI...   \n",
       "...              ...                                                ...   \n",
       "18280.0       180.60  [WOOD BLACK BOARD ANT WHITE FINISH, RETROSPOT ...   \n",
       "18281.0        80.82  [ROBOT BIRTHDAY CARD, CARD CIRCUS PARADE, PENN...   \n",
       "18282.0       176.60  [ANTIQUE CREAM CUTLERY CUPBOARD, FRENCH STYLE ...   \n",
       "18283.0      2094.88  [CHARLOTTE BAG PINK POLKADOT, LUNCH BAG WOODLA...   \n",
       "18287.0      1837.28  [SMALL PURPLE BABUSHKA NOTEBOOK , SMALL RED BA...   \n",
       "\n",
       "                   Country  InvoiceNo_count  \n",
       "CustomerID                                   \n",
       "12346.0     United Kingdom                2  \n",
       "12347.0            Iceland              182  \n",
       "12348.0            Finland               31  \n",
       "12349.0              Italy               73  \n",
       "12350.0             Norway               17  \n",
       "...                    ...              ...  \n",
       "18280.0     United Kingdom               10  \n",
       "18281.0     United Kingdom                7  \n",
       "18282.0     United Kingdom               13  \n",
       "18283.0     United Kingdom              756  \n",
       "18287.0     United Kingdom               70  \n",
       "\n",
       "[4372 rows x 4 columns]"
      ]
     },
     "execution_count": 34,
     "metadata": {},
     "output_type": "execute_result"
    }
   ],
   "source": [
    "b = data.groupby(\"CustomerID\").agg(All_Cost = (\"Cost\", \"sum\"),\n",
    "                                   All_Description = (\"Description\", lambda x: x),\n",
    "                                   Country = (\"Country\", lambda x: list(set(x))[0]),\n",
    "                                   InvoiceNo_count = (\"InvoiceNo\", \"count\")\n",
    "                                  )\n",
    "b"
   ]
  },
  {
   "cell_type": "code",
   "execution_count": 35,
   "metadata": {},
   "outputs": [],
   "source": [
    "b[\"All_Description\"] = b[\"All_Description\"].apply(lambda x: \" \".join(list(set([h for s in [i.split() for i in x] for h in s]))))"
   ]
  },
  {
   "cell_type": "code",
   "execution_count": 36,
   "metadata": {},
   "outputs": [
    {
     "data": {
      "text/html": [
       "<div>\n",
       "<style scoped>\n",
       "    .dataframe tbody tr th:only-of-type {\n",
       "        vertical-align: middle;\n",
       "    }\n",
       "\n",
       "    .dataframe tbody tr th {\n",
       "        vertical-align: top;\n",
       "    }\n",
       "\n",
       "    .dataframe thead th {\n",
       "        text-align: right;\n",
       "    }\n",
       "</style>\n",
       "<table border=\"1\" class=\"dataframe\">\n",
       "  <thead>\n",
       "    <tr style=\"text-align: right;\">\n",
       "      <th></th>\n",
       "      <th>All_Cost</th>\n",
       "      <th>All_Description</th>\n",
       "      <th>Country</th>\n",
       "      <th>InvoiceNo_count</th>\n",
       "    </tr>\n",
       "    <tr>\n",
       "      <th>CustomerID</th>\n",
       "      <th></th>\n",
       "      <th></th>\n",
       "      <th></th>\n",
       "      <th></th>\n",
       "    </tr>\n",
       "  </thead>\n",
       "  <tbody>\n",
       "    <tr>\n",
       "      <th>12346.0</th>\n",
       "      <td>0.00</td>\n",
       "      <td>JAR MEDIUM STORAGE CERAMIC TOP</td>\n",
       "      <td>United Kingdom</td>\n",
       "      <td>2</td>\n",
       "    </tr>\n",
       "    <tr>\n",
       "      <th>12347.0</th>\n",
       "      <td>4310.00</td>\n",
       "      <td>RED COLOUR 3D BLUE CANDLE 40 SINGLE SHAPE WOOD...</td>\n",
       "      <td>Iceland</td>\n",
       "      <td>182</td>\n",
       "    </tr>\n",
       "    <tr>\n",
       "      <th>12348.0</th>\n",
       "      <td>1797.24</td>\n",
       "      <td>60 RED BALLOONS DOILIES BLUE MULTI ICE SWEETIE...</td>\n",
       "      <td>Finland</td>\n",
       "      <td>31</td>\n",
       "    </tr>\n",
       "    <tr>\n",
       "      <th>12349.0</th>\n",
       "      <td>1757.55</td>\n",
       "      <td>RED WOODEN CIRCUS SHAPE SMALL SHELF PLASTERS W...</td>\n",
       "      <td>Italy</td>\n",
       "      <td>73</td>\n",
       "    </tr>\n",
       "    <tr>\n",
       "      <th>12350.0</th>\n",
       "      <td>334.40</td>\n",
       "      <td>RED BLUE BATHROOM WITCH PLASTERS MOD TEA VINTA...</td>\n",
       "      <td>Norway</td>\n",
       "      <td>17</td>\n",
       "    </tr>\n",
       "    <tr>\n",
       "      <th>...</th>\n",
       "      <td>...</td>\n",
       "      <td>...</td>\n",
       "      <td>...</td>\n",
       "      <td>...</td>\n",
       "    </tr>\n",
       "    <tr>\n",
       "      <th>18280.0</th>\n",
       "      <td>180.60</td>\n",
       "      <td>WHITE RED WOODEN ANT BAKELIKE CHOICE BOARD KIN...</td>\n",
       "      <td>United Kingdom</td>\n",
       "      <td>10</td>\n",
       "    </tr>\n",
       "    <tr>\n",
       "      <th>18281.0</th>\n",
       "      <td>80.82</td>\n",
       "      <td>CIRCUS BABY GUMBALL SPACEBOY PARADE GIRL DOLLY...</td>\n",
       "      <td>United Kingdom</td>\n",
       "      <td>7</td>\n",
       "    </tr>\n",
       "    <tr>\n",
       "      <th>18282.0</th>\n",
       "      <td>176.60</td>\n",
       "      <td>COLOUR MILK TIER STORAGE ENAMEL VILLAGE 3 LARG...</td>\n",
       "      <td>United Kingdom</td>\n",
       "      <td>13</td>\n",
       "    </tr>\n",
       "    <tr>\n",
       "      <th>18283.0</th>\n",
       "      <td>2094.88</td>\n",
       "      <td>WOODEN 3D LIP SCANDINAVIAN SPOTTY BUNDLE MICE ...</td>\n",
       "      <td>United Kingdom</td>\n",
       "      <td>756</td>\n",
       "    </tr>\n",
       "    <tr>\n",
       "      <th>18287.0</th>\n",
       "      <td>1837.28</td>\n",
       "      <td>RED COLOUR SUCTION BLUE CANDLE WOODEN SMALL BU...</td>\n",
       "      <td>United Kingdom</td>\n",
       "      <td>70</td>\n",
       "    </tr>\n",
       "  </tbody>\n",
       "</table>\n",
       "<p>4372 rows × 4 columns</p>\n",
       "</div>"
      ],
      "text/plain": [
       "            All_Cost                                    All_Description   \n",
       "CustomerID                                                                \n",
       "12346.0         0.00                     JAR MEDIUM STORAGE CERAMIC TOP  \\\n",
       "12347.0      4310.00  RED COLOUR 3D BLUE CANDLE 40 SINGLE SHAPE WOOD...   \n",
       "12348.0      1797.24  60 RED BALLOONS DOILIES BLUE MULTI ICE SWEETIE...   \n",
       "12349.0      1757.55  RED WOODEN CIRCUS SHAPE SMALL SHELF PLASTERS W...   \n",
       "12350.0       334.40  RED BLUE BATHROOM WITCH PLASTERS MOD TEA VINTA...   \n",
       "...              ...                                                ...   \n",
       "18280.0       180.60  WHITE RED WOODEN ANT BAKELIKE CHOICE BOARD KIN...   \n",
       "18281.0        80.82  CIRCUS BABY GUMBALL SPACEBOY PARADE GIRL DOLLY...   \n",
       "18282.0       176.60  COLOUR MILK TIER STORAGE ENAMEL VILLAGE 3 LARG...   \n",
       "18283.0      2094.88  WOODEN 3D LIP SCANDINAVIAN SPOTTY BUNDLE MICE ...   \n",
       "18287.0      1837.28  RED COLOUR SUCTION BLUE CANDLE WOODEN SMALL BU...   \n",
       "\n",
       "                   Country  InvoiceNo_count  \n",
       "CustomerID                                   \n",
       "12346.0     United Kingdom                2  \n",
       "12347.0            Iceland              182  \n",
       "12348.0            Finland               31  \n",
       "12349.0              Italy               73  \n",
       "12350.0             Norway               17  \n",
       "...                    ...              ...  \n",
       "18280.0     United Kingdom               10  \n",
       "18281.0     United Kingdom                7  \n",
       "18282.0     United Kingdom               13  \n",
       "18283.0     United Kingdom              756  \n",
       "18287.0     United Kingdom               70  \n",
       "\n",
       "[4372 rows x 4 columns]"
      ]
     },
     "execution_count": 36,
     "metadata": {},
     "output_type": "execute_result"
    }
   ],
   "source": [
    "b"
   ]
  },
  {
   "cell_type": "code",
   "execution_count": 37,
   "metadata": {},
   "outputs": [
    {
     "data": {
      "image/png": "[encoded data removed]",
      "text/plain": [
       "<Figure size 640x480 with 1 Axes>"
      ]
     },
     "metadata": {},
     "output_type": "display_data"
    }
   ],
   "source": [
    "sns.histplot(b[\"InvoiceNo_count\"])\n",
    "plt.show()"
   ]
  },
  {
   "cell_type": "code",
   "execution_count": 38,
   "metadata": {},
   "outputs": [
    {
     "data": {
      "image/png": "[encoded data removed]",
      "text/plain": [
       "<Figure size 640x480 with 1 Axes>"
      ]
     },
     "metadata": {},
     "output_type": "display_data"
    }
   ],
   "source": [
    "b[\"InvoiceNo_count\"] = np.log(b[\"InvoiceNo_count\"])\n",
    "sns.histplot(b[\"InvoiceNo_count\"])\n",
    "plt.show()"
   ]
  },
  {
   "cell_type": "code",
   "execution_count": 39,
   "metadata": {},
   "outputs": [
    {
     "data": {
      "image/png": "[encoded data removed]",
      "text/plain": [
       "<Figure size 1000x500 with 1 Axes>"
      ]
     },
     "metadata": {},
     "output_type": "display_data"
    }
   ],
   "source": [
    "plt.figure(figsize=(10,5))\n",
    "bar = sns.barplot(x=b[\"Country\"].value_counts().index, y=b[\"Country\"].value_counts().to_list())\n",
    "plt.xticks(rotation=90)\n",
    "\n",
    "# Add the value labels\n",
    "bar.bar_label(bar.containers[0])\n",
    "plt.show()"
   ]
  },
  {
   "cell_type": "code",
   "execution_count": 40,
   "metadata": {},
   "outputs": [],
   "source": [
    "b['Country'] = b['Country'].apply(lambda x: 'other' if x not in [\"United Kingdom\", \"Germany\", \"France\", \"Spain\"] else x)"
   ]
  },
  {
   "cell_type": "code",
   "execution_count": 41,
   "metadata": {},
   "outputs": [
    {
     "data": {
      "image/png": "[encoded data removed]",
      "text/plain": [
       "<Figure size 1000x500 with 1 Axes>"
      ]
     },
     "metadata": {},
     "output_type": "display_data"
    }
   ],
   "source": [
    "plt.figure(figsize=(10,5))\n",
    "bar = sns.barplot(x=b[\"Country\"].value_counts().index, y=b[\"Country\"].value_counts().to_list())\n",
    "plt.xticks(rotation=90)\n",
    "\n",
    "# Add the value labels\n",
    "bar.bar_label(bar.containers[0])\n",
    "plt.show()"
   ]
  },
  {
   "cell_type": "code",
   "execution_count": 51,
   "metadata": {},
   "outputs": [
    {
     "data": {
      "image/png": "[encoded data removed]",
      "text/plain": [
       "<Figure size 500x500 with 1 Axes>"
      ]
     },
     "metadata": {},
     "output_type": "display_data"
    }
   ],
   "source": [
    "sns.displot(b[\"All_Cost\"])\n",
    "plt.show()"
   ]
  },
  {
   "cell_type": "code",
   "execution_count": 52,
   "metadata": {},
   "outputs": [
    {
     "data": {
      "text/html": [
       "<div>\n",
       "<style scoped>\n",
       "    .dataframe tbody tr th:only-of-type {\n",
       "        vertical-align: middle;\n",
       "    }\n",
       "\n",
       "    .dataframe tbody tr th {\n",
       "        vertical-align: top;\n",
       "    }\n",
       "\n",
       "    .dataframe thead th {\n",
       "        text-align: right;\n",
       "    }\n",
       "</style>\n",
       "<table border=\"1\" class=\"dataframe\">\n",
       "  <thead>\n",
       "    <tr style=\"text-align: right;\">\n",
       "      <th></th>\n",
       "      <th>All_Cost</th>\n",
       "      <th>All_Description</th>\n",
       "      <th>Country</th>\n",
       "      <th>InvoiceNo_count</th>\n",
       "    </tr>\n",
       "    <tr>\n",
       "      <th>CustomerID</th>\n",
       "      <th></th>\n",
       "      <th></th>\n",
       "      <th></th>\n",
       "      <th></th>\n",
       "    </tr>\n",
       "  </thead>\n",
       "  <tbody>\n",
       "    <tr>\n",
       "      <th>12346.0</th>\n",
       "      <td>0.00</td>\n",
       "      <td>JAR MEDIUM STORAGE CERAMIC TOP</td>\n",
       "      <td>United Kingdom</td>\n",
       "      <td>0.693147</td>\n",
       "    </tr>\n",
       "    <tr>\n",
       "      <th>12347.0</th>\n",
       "      <td>4310.00</td>\n",
       "      <td>RED COLOUR 3D BLUE CANDLE 40 SINGLE SHAPE WOOD...</td>\n",
       "      <td>other</td>\n",
       "      <td>5.204007</td>\n",
       "    </tr>\n",
       "    <tr>\n",
       "      <th>12348.0</th>\n",
       "      <td>1797.24</td>\n",
       "      <td>60 RED BALLOONS DOILIES BLUE MULTI ICE SWEETIE...</td>\n",
       "      <td>other</td>\n",
       "      <td>3.433987</td>\n",
       "    </tr>\n",
       "    <tr>\n",
       "      <th>12349.0</th>\n",
       "      <td>1757.55</td>\n",
       "      <td>RED WOODEN CIRCUS SHAPE SMALL SHELF PLASTERS W...</td>\n",
       "      <td>other</td>\n",
       "      <td>4.290459</td>\n",
       "    </tr>\n",
       "    <tr>\n",
       "      <th>12350.0</th>\n",
       "      <td>334.40</td>\n",
       "      <td>RED BLUE BATHROOM WITCH PLASTERS MOD TEA VINTA...</td>\n",
       "      <td>other</td>\n",
       "      <td>2.833213</td>\n",
       "    </tr>\n",
       "    <tr>\n",
       "      <th>...</th>\n",
       "      <td>...</td>\n",
       "      <td>...</td>\n",
       "      <td>...</td>\n",
       "      <td>...</td>\n",
       "    </tr>\n",
       "    <tr>\n",
       "      <th>18280.0</th>\n",
       "      <td>180.60</td>\n",
       "      <td>WHITE RED WOODEN ANT BAKELIKE CHOICE BOARD KIN...</td>\n",
       "      <td>United Kingdom</td>\n",
       "      <td>2.302585</td>\n",
       "    </tr>\n",
       "    <tr>\n",
       "      <th>18281.0</th>\n",
       "      <td>80.82</td>\n",
       "      <td>CIRCUS BABY GUMBALL SPACEBOY PARADE GIRL DOLLY...</td>\n",
       "      <td>United Kingdom</td>\n",
       "      <td>1.945910</td>\n",
       "    </tr>\n",
       "    <tr>\n",
       "      <th>18282.0</th>\n",
       "      <td>176.60</td>\n",
       "      <td>COLOUR MILK TIER STORAGE ENAMEL VILLAGE 3 LARG...</td>\n",
       "      <td>United Kingdom</td>\n",
       "      <td>2.564949</td>\n",
       "    </tr>\n",
       "    <tr>\n",
       "      <th>18283.0</th>\n",
       "      <td>2094.88</td>\n",
       "      <td>WOODEN 3D LIP SCANDINAVIAN SPOTTY BUNDLE MICE ...</td>\n",
       "      <td>United Kingdom</td>\n",
       "      <td>6.628041</td>\n",
       "    </tr>\n",
       "    <tr>\n",
       "      <th>18287.0</th>\n",
       "      <td>1837.28</td>\n",
       "      <td>RED COLOUR SUCTION BLUE CANDLE WOODEN SMALL BU...</td>\n",
       "      <td>United Kingdom</td>\n",
       "      <td>4.248495</td>\n",
       "    </tr>\n",
       "  </tbody>\n",
       "</table>\n",
       "<p>4372 rows × 4 columns</p>\n",
       "</div>"
      ],
      "text/plain": [
       "            All_Cost                                    All_Description   \n",
       "CustomerID                                                                \n",
       "12346.0         0.00                     JAR MEDIUM STORAGE CERAMIC TOP  \\\n",
       "12347.0      4310.00  RED COLOUR 3D BLUE CANDLE 40 SINGLE SHAPE WOOD...   \n",
       "12348.0      1797.24  60 RED BALLOONS DOILIES BLUE MULTI ICE SWEETIE...   \n",
       "12349.0      1757.55  RED WOODEN CIRCUS SHAPE SMALL SHELF PLASTERS W...   \n",
       "12350.0       334.40  RED BLUE BATHROOM WITCH PLASTERS MOD TEA VINTA...   \n",
       "...              ...                                                ...   \n",
       "18280.0       180.60  WHITE RED WOODEN ANT BAKELIKE CHOICE BOARD KIN...   \n",
       "18281.0        80.82  CIRCUS BABY GUMBALL SPACEBOY PARADE GIRL DOLLY...   \n",
       "18282.0       176.60  COLOUR MILK TIER STORAGE ENAMEL VILLAGE 3 LARG...   \n",
       "18283.0      2094.88  WOODEN 3D LIP SCANDINAVIAN SPOTTY BUNDLE MICE ...   \n",
       "18287.0      1837.28  RED COLOUR SUCTION BLUE CANDLE WOODEN SMALL BU...   \n",
       "\n",
       "                   Country  InvoiceNo_count  \n",
       "CustomerID                                   \n",
       "12346.0     United Kingdom         0.693147  \n",
       "12347.0              other         5.204007  \n",
       "12348.0              other         3.433987  \n",
       "12349.0              other         4.290459  \n",
       "12350.0              other         2.833213  \n",
       "...                    ...              ...  \n",
       "18280.0     United Kingdom         2.302585  \n",
       "18281.0     United Kingdom         1.945910  \n",
       "18282.0     United Kingdom         2.564949  \n",
       "18283.0     United Kingdom         6.628041  \n",
       "18287.0     United Kingdom         4.248495  \n",
       "\n",
       "[4372 rows x 4 columns]"
      ]
     },
     "execution_count": 52,
     "metadata": {},
     "output_type": "execute_result"
    }
   ],
   "source": [
    "b"
   ]
  },
  {
   "cell_type": "code",
   "execution_count": 65,
   "metadata": {},
   "outputs": [
    {
     "name": "stderr",
     "output_type": "stream",
     "text": [
      "C:\\Users\\MR-14\\AppData\\Local\\Temp\\ipykernel_2448\\4039151924.py:8: SettingWithCopyWarning: \n",
      "A value is trying to be set on a copy of a slice from a DataFrame\n",
      "\n",
      "See the caveats in the documentation: https://pandas.pydata.org/pandas-docs/stable/user_guide/indexing.html#returning-a-view-versus-a-copy\n",
      "  b.loc[r[0]][\"All_Description\"] = \" \".join(tokenized_filtered_stemmed)\n"
     ]
    }
   ],
   "source": [
    "stemmer = SnowballStemmer(language='english')\n",
    "\n",
    "for r in b.iterrows():\n",
    "    desc = b.loc[r[0],\"All_Description\"]\n",
    "    tokenized = word_tokenize(desc)\n",
    "    tokenized_filtered = [w for w in tokenized if not w in stopwords.words('english')]\n",
    "    tokenized_filtered_stemmed = [stemmer.stem(w) for w in tokenized_filtered]\n",
    "    b.loc[r[0]][\"All_Description\"] = \" \".join(tokenized_filtered_stemmed)\n",
    "    "
   ]
  },
  {
   "cell_type": "code",
   "execution_count": 67,
   "metadata": {},
   "outputs": [
    {
     "data": {
      "text/plain": [
       "'RED BLUE BATHROOM WITCH PLASTERS MOD TEA VINTAGE COVER SPACEBOY WAY NEIGHBOURHOOD BOX SIGN SPINNING LUGGAGE UNION POLKADOT RETROSPOT IN PAISLEY TAG RETRO PLASTIC CHOCOLATE POSTAGE JACK TRADITIONAL 4 FLAG HARMONICA THIS ELEPHANT BAG PINK/PURPLE RADIO TOPS METAL CALCULATOR PASSPORT PLATE TIN TRAY'"
      ]
     },
     "execution_count": 67,
     "metadata": {},
     "output_type": "execute_result"
    }
   ],
   "source": [
    "b[\"All_Description\"][12350.0]"
   ]
  },
  {
   "cell_type": "code",
   "execution_count": 69,
   "metadata": {},
   "outputs": [
    {
     "data": {
      "text/plain": [
       "\"RED COLOUR SUCTION BLUE CANDLE WOODEN SMALL BUTTERFLY RING LIP SILVER WINKIE DESIGN LIZARD CAT BOWL FOLK TURQUOISE HOT NESTING SUNDAE CAKE YELLOW SET CREAM HEART GLOSS FABRIC FUSCHIA CIRCLES WARMER DECORATION OWL CHERRY FAWN MONKEY PRINCE PEN TISSUES FROG HOLDER BOXES BUBBLEGUM DOUGHNUT STAR IN 6 SYMPATHY T-LIGHTS LITTLE DECORATIONS WOOD PLACE BONE 2 50'S CHALET CANDLES GIFT 4 CUP WITH WILLIE SCOTTY BABUSHKA CHINA MUG OF SPRING SWISS CHRISTMAS LIFE BELL CERAMIC NOTEBOOK SPONGE GINGHAM BOX BATH SCARF DOLL RETROSPOT PONY ASSORTED PAINTED HOLLY ART TISSUE BOTTLE AND SANTA LIPSTICK TOADSTOOLS SLEIGH METAL WATER FRIENDS PURPLE T-LIGHT ICE SET/4 HAND 3 LARGE TEA BANK VINTAGE 12 TREE BELLS GLITTER IVORY PUDDING SETTINGS BUBBLES PACK DOG ROSE STRAWBERRY TRINKET FLOWER MINI SET/6 CRAFT 7 HANDBAG S/4 SWEETIE HANGING PINK TREES MONEY HOOK APPLE POT\""
      ]
     },
     "execution_count": 69,
     "metadata": {},
     "output_type": "execute_result"
    }
   ],
   "source": [
    "b.loc[r[0],\"All_Description\"]"
   ]
  },
  {
   "cell_type": "code",
   "execution_count": null,
   "metadata": {},
   "outputs": [],
   "source": [
    "for r in b.iterrows():\n",
    "    print(b.loc[r[0],\"All_Description\"])"
   ]
  },
  {
   "cell_type": "code",
   "execution_count": 63,
   "metadata": {},
   "outputs": [
    {
     "data": {
      "text/plain": [
       "\"RED COLOUR SUCTION BLUE CANDLE WOODEN SMALL BUTTERFLY RING LIP SILVER WINKIE DESIGN LIZARD CAT BOWL FOLK TURQUOISE HOT NESTING SUNDAE CAKE YELLOW SET CREAM HEART GLOSS FABRIC FUSCHIA CIRCLES WARMER DECORATION OWL CHERRY FAWN MONKEY PRINCE PEN TISSUES FROG HOLDER BOXES BUBBLEGUM DOUGHNUT STAR IN 6 SYMPATHY T-LIGHTS LITTLE DECORATIONS WOOD PLACE BONE 2 50'S CHALET CANDLES GIFT 4 CUP WITH WILLIE SCOTTY BABUSHKA CHINA MUG OF SPRING SWISS CHRISTMAS LIFE BELL CERAMIC NOTEBOOK SPONGE GINGHAM BOX BATH SCARF DOLL RETROSPOT PONY ASSORTED PAINTED HOLLY ART TISSUE BOTTLE AND SANTA LIPSTICK TOADSTOOLS SLEIGH METAL WATER FRIENDS PURPLE T-LIGHT ICE SET/4 HAND 3 LARGE TEA BANK VINTAGE 12 TREE BELLS GLITTER IVORY PUDDING SETTINGS BUBBLES PACK DOG ROSE STRAWBERRY TRINKET FLOWER MINI SET/6 CRAFT 7 HANDBAG S/4 SWEETIE HANGING PINK TREES MONEY HOOK APPLE POT\""
      ]
     },
     "execution_count": 63,
     "metadata": {},
     "output_type": "execute_result"
    }
   ],
   "source": [
    "b.loc[r[0]][\"All_Description\"]"
   ]
  },
  {
   "cell_type": "code",
   "execution_count": 83,
   "metadata": {},
   "outputs": [
    {
     "data": {
      "text/html": [
       "<div>\n",
       "<style scoped>\n",
       "    .dataframe tbody tr th:only-of-type {\n",
       "        vertical-align: middle;\n",
       "    }\n",
       "\n",
       "    .dataframe tbody tr th {\n",
       "        vertical-align: top;\n",
       "    }\n",
       "\n",
       "    .dataframe thead th {\n",
       "        text-align: right;\n",
       "    }\n",
       "</style>\n",
       "<table border=\"1\" class=\"dataframe\">\n",
       "  <thead>\n",
       "    <tr style=\"text-align: right;\">\n",
       "      <th></th>\n",
       "      <th>All_Cost</th>\n",
       "      <th>All_Description</th>\n",
       "      <th>Country</th>\n",
       "      <th>InvoiceNo_count</th>\n",
       "    </tr>\n",
       "  </thead>\n",
       "  <tbody>\n",
       "    <tr>\n",
       "      <th>0</th>\n",
       "      <td>0.00</td>\n",
       "      <td>JAR MEDIUM STORAGE CERAMIC TOP</td>\n",
       "      <td>United Kingdom</td>\n",
       "      <td>0.693147</td>\n",
       "    </tr>\n",
       "    <tr>\n",
       "      <th>1</th>\n",
       "      <td>4310.00</td>\n",
       "      <td>RED COLOUR 3D BLUE CANDLE 40 SINGLE SHAPE WOOD...</td>\n",
       "      <td>other</td>\n",
       "      <td>5.204007</td>\n",
       "    </tr>\n",
       "    <tr>\n",
       "      <th>2</th>\n",
       "      <td>1797.24</td>\n",
       "      <td>60 RED BALLOONS DOILIES BLUE MULTI ICE SWEETIE...</td>\n",
       "      <td>other</td>\n",
       "      <td>3.433987</td>\n",
       "    </tr>\n",
       "    <tr>\n",
       "      <th>3</th>\n",
       "      <td>1757.55</td>\n",
       "      <td>RED WOODEN CIRCUS SHAPE SMALL SHELF PLASTERS W...</td>\n",
       "      <td>other</td>\n",
       "      <td>4.290459</td>\n",
       "    </tr>\n",
       "    <tr>\n",
       "      <th>4</th>\n",
       "      <td>334.40</td>\n",
       "      <td>RED BLUE BATHROOM WITCH PLASTERS MOD TEA VINTA...</td>\n",
       "      <td>other</td>\n",
       "      <td>2.833213</td>\n",
       "    </tr>\n",
       "    <tr>\n",
       "      <th>...</th>\n",
       "      <td>...</td>\n",
       "      <td>...</td>\n",
       "      <td>...</td>\n",
       "      <td>...</td>\n",
       "    </tr>\n",
       "    <tr>\n",
       "      <th>4367</th>\n",
       "      <td>180.60</td>\n",
       "      <td>WHITE RED WOODEN ANT BAKELIKE CHOICE BOARD KIN...</td>\n",
       "      <td>United Kingdom</td>\n",
       "      <td>2.302585</td>\n",
       "    </tr>\n",
       "    <tr>\n",
       "      <th>4368</th>\n",
       "      <td>80.82</td>\n",
       "      <td>CIRCUS BABY GUMBALL SPACEBOY PARADE GIRL DOLLY...</td>\n",
       "      <td>United Kingdom</td>\n",
       "      <td>1.945910</td>\n",
       "    </tr>\n",
       "    <tr>\n",
       "      <th>4369</th>\n",
       "      <td>176.60</td>\n",
       "      <td>COLOUR MILK TIER STORAGE ENAMEL VILLAGE 3 LARG...</td>\n",
       "      <td>United Kingdom</td>\n",
       "      <td>2.564949</td>\n",
       "    </tr>\n",
       "    <tr>\n",
       "      <th>4370</th>\n",
       "      <td>2094.88</td>\n",
       "      <td>WOODEN 3D LIP SCANDINAVIAN SPOTTY BUNDLE MICE ...</td>\n",
       "      <td>United Kingdom</td>\n",
       "      <td>6.628041</td>\n",
       "    </tr>\n",
       "    <tr>\n",
       "      <th>4371</th>\n",
       "      <td>1837.28</td>\n",
       "      <td>RED COLOUR SUCTION BLUE CANDLE WOODEN SMALL BU...</td>\n",
       "      <td>United Kingdom</td>\n",
       "      <td>4.248495</td>\n",
       "    </tr>\n",
       "  </tbody>\n",
       "</table>\n",
       "<p>4372 rows × 4 columns</p>\n",
       "</div>"
      ],
      "text/plain": [
       "      All_Cost                                    All_Description   \n",
       "0         0.00                     JAR MEDIUM STORAGE CERAMIC TOP  \\\n",
       "1      4310.00  RED COLOUR 3D BLUE CANDLE 40 SINGLE SHAPE WOOD...   \n",
       "2      1797.24  60 RED BALLOONS DOILIES BLUE MULTI ICE SWEETIE...   \n",
       "3      1757.55  RED WOODEN CIRCUS SHAPE SMALL SHELF PLASTERS W...   \n",
       "4       334.40  RED BLUE BATHROOM WITCH PLASTERS MOD TEA VINTA...   \n",
       "...        ...                                                ...   \n",
       "4367    180.60  WHITE RED WOODEN ANT BAKELIKE CHOICE BOARD KIN...   \n",
       "4368     80.82  CIRCUS BABY GUMBALL SPACEBOY PARADE GIRL DOLLY...   \n",
       "4369    176.60  COLOUR MILK TIER STORAGE ENAMEL VILLAGE 3 LARG...   \n",
       "4370   2094.88  WOODEN 3D LIP SCANDINAVIAN SPOTTY BUNDLE MICE ...   \n",
       "4371   1837.28  RED COLOUR SUCTION BLUE CANDLE WOODEN SMALL BU...   \n",
       "\n",
       "             Country  InvoiceNo_count  \n",
       "0     United Kingdom         0.693147  \n",
       "1              other         5.204007  \n",
       "2              other         3.433987  \n",
       "3              other         4.290459  \n",
       "4              other         2.833213  \n",
       "...              ...              ...  \n",
       "4367  United Kingdom         2.302585  \n",
       "4368  United Kingdom         1.945910  \n",
       "4369  United Kingdom         2.564949  \n",
       "4370  United Kingdom         6.628041  \n",
       "4371  United Kingdom         4.248495  \n",
       "\n",
       "[4372 rows x 4 columns]"
      ]
     },
     "execution_count": 83,
     "metadata": {},
     "output_type": "execute_result"
    }
   ],
   "source": [
    "bb = b.reset_index()\n",
    "bb.drop(\"CustomerID\", axis=1, inplace=True)\n",
    "bb"
   ]
  },
  {
   "cell_type": "code",
   "execution_count": null,
   "metadata": {},
   "outputs": [],
   "source": []
  }
 ],
 "metadata": {
  "kernelspec": {
   "display_name": "venv7",
   "language": "python",
   "name": "python3"
  },
  "language_info": {
   "codemirror_mode": {
    "name": "ipython",
    "version": 3
   },
   "file_extension": ".py",
   "mimetype": "text/x-python",
   "name": "python",
   "nbconvert_exporter": "python",
   "pygments_lexer": "ipython3",
   "version": "3.9.6"
  }
 },
 "nbformat": 4,
 "nbformat_minor": 2
}
